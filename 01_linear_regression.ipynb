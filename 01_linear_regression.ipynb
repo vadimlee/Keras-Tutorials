{
 "cells": [
  {
   "cell_type": "code",
   "execution_count": 1,
   "metadata": {},
   "outputs": [
    {
     "name": "stderr",
     "output_type": "stream",
     "text": [
      "Using TensorFlow backend.\n"
     ]
    }
   ],
   "source": [
    "from keras.models import Sequential\n",
    "from keras.layers import Dense\n",
    "import numpy as np\n",
    "import matplotlib.pyplot as plt\n",
    "%matplotlib inline"
   ]
  },
  {
   "cell_type": "code",
   "execution_count": 2,
   "metadata": {
    "collapsed": true
   },
   "outputs": [],
   "source": [
    "# Generate dataset\n",
    "trX = np.linspace(-1, 1, 101)\n",
    "trY = 2 * trX + np.random.randn(*trX.shape) * 0.33 # create a y value which is approximately linear but with some random noise"
   ]
  },
  {
   "cell_type": "code",
   "execution_count": 3,
   "metadata": {
    "collapsed": true
   },
   "outputs": [],
   "source": [
    "# Linear regression model\n",
    "model = Sequential()\n",
    "model.add(Dense(input_dim=1, activation=\"linear\", units=1, kernel_initializer=\"uniform\"))\n",
    "model.compile(optimizer='sgd', loss='mse')"
   ]
  },
  {
   "cell_type": "code",
   "execution_count": 4,
   "metadata": {},
   "outputs": [
    {
     "name": "stdout",
     "output_type": "stream",
     "text": [
      "Linear regression model is initialized with weight w: -0.03, b: 0.00\n"
     ]
    }
   ],
   "source": [
    "# Print initial weights\n",
    "weights = model.layers[0].get_weights()\n",
    "w_init = weights[0][0][0]\n",
    "b_init = weights[1][0]\n",
    "print('Linear regression model is initialized with weight w: %.2f, b: %.2f' % (w_init, b_init))"
   ]
  },
  {
   "cell_type": "code",
   "execution_count": 5,
   "metadata": {},
   "outputs": [
    {
     "name": "stdout",
     "output_type": "stream",
     "text": [
      "Epoch 1/100\n",
      "101/101 [==============================] - 0s - loss: 1.6398     \n",
      "Epoch 2/100\n",
      "101/101 [==============================] - 0s - loss: 1.5561     \n",
      "Epoch 3/100\n",
      "101/101 [==============================] - 0s - loss: 1.4853     \n",
      "Epoch 4/100\n",
      "101/101 [==============================] - 0s - loss: 1.4131     \n",
      "Epoch 5/100\n",
      "101/101 [==============================] - 0s - loss: 1.3453     \n",
      "Epoch 6/100\n",
      "101/101 [==============================] - 0s - loss: 1.2753     \n",
      "Epoch 7/100\n",
      "101/101 [==============================] - 0s - loss: 1.2146     \n",
      "Epoch 8/100\n",
      "101/101 [==============================] - 0s - loss: 1.1506     \n",
      "Epoch 9/100\n",
      "101/101 [==============================] - 0s - loss: 1.0926     \n",
      "Epoch 10/100\n",
      "101/101 [==============================] - 0s - loss: 1.0289     \n",
      "Epoch 11/100\n",
      "101/101 [==============================] - 0s - loss: 0.9805     \n",
      "Epoch 12/100\n",
      "101/101 [==============================] - 0s - loss: 0.9335     \n",
      "Epoch 13/100\n",
      "101/101 [==============================] - 0s - loss: 0.8820     \n",
      "Epoch 14/100\n",
      "101/101 [==============================] - 0s - loss: 0.8384     \n",
      "Epoch 15/100\n",
      "101/101 [==============================] - 0s - loss: 0.7909     \n",
      "Epoch 16/100\n",
      "101/101 [==============================] - 0s - loss: 0.7530     \n",
      "Epoch 17/100\n",
      "101/101 [==============================] - 0s - loss: 0.7175     \n",
      "Epoch 18/100\n",
      "101/101 [==============================] - 0s - loss: 0.6857     \n",
      "Epoch 19/100\n",
      "101/101 [==============================] - 0s - loss: 0.6519     \n",
      "Epoch 20/100\n",
      "101/101 [==============================] - 0s - loss: 0.6226     \n",
      "Epoch 21/100\n",
      "101/101 [==============================] - 0s - loss: 0.5991     \n",
      "Epoch 22/100\n",
      "101/101 [==============================] - 0s - loss: 0.5763     \n",
      "Epoch 23/100\n",
      "101/101 [==============================] - 0s - loss: 0.5523     \n",
      "Epoch 24/100\n",
      "101/101 [==============================] - 0s - loss: 0.5261     \n",
      "Epoch 25/100\n",
      "101/101 [==============================] - 0s - loss: 0.5055     \n",
      "Epoch 26/100\n",
      "101/101 [==============================] - 0s - loss: 0.4833     \n",
      "Epoch 27/100\n",
      "101/101 [==============================] - 0s - loss: 0.4612     \n",
      "Epoch 28/100\n",
      "101/101 [==============================] - 0s - loss: 0.4394     \n",
      "Epoch 29/100\n",
      "101/101 [==============================] - 0s - loss: 0.4226     \n",
      "Epoch 30/100\n",
      "101/101 [==============================] - 0s - loss: 0.4053     \n",
      "Epoch 31/100\n",
      "101/101 [==============================] - 0s - loss: 0.3895     \n",
      "Epoch 32/100\n",
      "101/101 [==============================] - 0s - loss: 0.3751     \n",
      "Epoch 33/100\n",
      "101/101 [==============================] - 0s - loss: 0.3604     \n",
      "Epoch 34/100\n",
      "101/101 [==============================] - 0s - loss: 0.3459     \n",
      "Epoch 35/100\n",
      "101/101 [==============================] - 0s - loss: 0.3328     \n",
      "Epoch 36/100\n",
      "101/101 [==============================] - 0s - loss: 0.3220     \n",
      "Epoch 37/100\n",
      "101/101 [==============================] - 0s - loss: 0.3101     \n",
      "Epoch 38/100\n",
      "101/101 [==============================] - 0s - loss: 0.2993     \n",
      "Epoch 39/100\n",
      "101/101 [==============================] - 0s - loss: 0.2891     \n",
      "Epoch 40/100\n",
      "101/101 [==============================] - 0s - loss: 0.2777     \n",
      "Epoch 41/100\n",
      "101/101 [==============================] - 0s - loss: 0.2691     \n",
      "Epoch 42/100\n",
      "101/101 [==============================] - 0s - loss: 0.2587     \n",
      "Epoch 43/100\n",
      "101/101 [==============================] - 0s - loss: 0.2505     \n",
      "Epoch 44/100\n",
      "101/101 [==============================] - 0s - loss: 0.2441     \n",
      "Epoch 45/100\n",
      "101/101 [==============================] - 0s - loss: 0.2376     \n",
      "Epoch 46/100\n",
      "101/101 [==============================] - 0s - loss: 0.2294     \n",
      "Epoch 47/100\n",
      "101/101 [==============================] - 0s - loss: 0.2215     \n",
      "Epoch 48/100\n",
      "101/101 [==============================] - 0s - loss: 0.2140     \n",
      "Epoch 49/100\n",
      "101/101 [==============================] - 0s - loss: 0.2082     \n",
      "Epoch 50/100\n",
      "101/101 [==============================] - 0s - loss: 0.2013     \n",
      "Epoch 51/100\n",
      "101/101 [==============================] - 0s - loss: 0.1962     \n",
      "Epoch 52/100\n",
      "101/101 [==============================] - 0s - loss: 0.1911     \n",
      "Epoch 53/100\n",
      "101/101 [==============================] - 0s - loss: 0.1853     \n",
      "Epoch 54/100\n",
      "101/101 [==============================] - 0s - loss: 0.1798     \n",
      "Epoch 55/100\n",
      "101/101 [==============================] - 0s - loss: 0.1750     \n",
      "Epoch 56/100\n",
      "101/101 [==============================] - 0s - loss: 0.1717     \n",
      "Epoch 57/100\n",
      "101/101 [==============================] - 0s - loss: 0.1681     \n",
      "Epoch 58/100\n",
      "101/101 [==============================] - 0s - loss: 0.1637     \n",
      "Epoch 59/100\n",
      "101/101 [==============================] - 0s - loss: 0.1604     \n",
      "Epoch 60/100\n",
      "101/101 [==============================] - 0s - loss: 0.1564     \n",
      "Epoch 61/100\n",
      "101/101 [==============================] - 0s - loss: 0.1539     \n",
      "Epoch 62/100\n",
      "101/101 [==============================] - 0s - loss: 0.1517     \n",
      "Epoch 63/100\n",
      "101/101 [==============================] - 0s - loss: 0.1489     \n",
      "Epoch 64/100\n",
      "101/101 [==============================] - 0s - loss: 0.1462     \n",
      "Epoch 65/100\n",
      "101/101 [==============================] - 0s - loss: 0.1437     \n",
      "Epoch 66/100\n",
      "101/101 [==============================] - 0s - loss: 0.1410     \n",
      "Epoch 67/100\n",
      "101/101 [==============================] - 0s - loss: 0.1395     \n",
      "Epoch 68/100\n",
      "101/101 [==============================] - 0s - loss: 0.1373     \n",
      "Epoch 69/100\n",
      "101/101 [==============================] - 0s - loss: 0.1354     \n",
      "Epoch 70/100\n",
      "101/101 [==============================] - 0s - loss: 0.1332     \n",
      "Epoch 71/100\n",
      "101/101 [==============================] - 0s - loss: 0.1317     \n",
      "Epoch 72/100\n",
      "101/101 [==============================] - 0s - loss: 0.1304     \n",
      "Epoch 73/100\n",
      "101/101 [==============================] - 0s - loss: 0.1291     \n",
      "Epoch 74/100\n",
      "101/101 [==============================] - 0s - loss: 0.1277     \n",
      "Epoch 75/100\n",
      "101/101 [==============================] - 0s - loss: 0.1266     \n",
      "Epoch 76/100\n",
      "101/101 [==============================] - 0s - loss: 0.1248     \n",
      "Epoch 77/100\n",
      "101/101 [==============================] - 0s - loss: 0.1237     \n",
      "Epoch 78/100\n",
      "101/101 [==============================] - 0s - loss: 0.1227     \n",
      "Epoch 79/100\n",
      "101/101 [==============================] - 0s - loss: 0.1216     \n",
      "Epoch 80/100\n",
      "101/101 [==============================] - 0s - loss: 0.1205     \n",
      "Epoch 81/100\n",
      "101/101 [==============================] - 0s - loss: 0.1196     \n",
      "Epoch 82/100\n",
      "101/101 [==============================] - 0s - loss: 0.1188     \n",
      "Epoch 83/100\n",
      "101/101 [==============================] - 0s - loss: 0.1172     \n",
      "Epoch 84/100\n",
      "101/101 [==============================] - 0s - loss: 0.1164     \n",
      "Epoch 85/100\n",
      "101/101 [==============================] - 0s - loss: 0.1158     \n",
      "Epoch 86/100\n",
      "101/101 [==============================] - 0s - loss: 0.1150     \n",
      "Epoch 87/100\n",
      "101/101 [==============================] - 0s - loss: 0.1143     \n",
      "Epoch 88/100\n",
      "101/101 [==============================] - 0s - loss: 0.1138     \n",
      "Epoch 89/100\n",
      "101/101 [==============================] - 0s - loss: 0.1132     \n",
      "Epoch 90/100\n",
      "101/101 [==============================] - 0s - loss: 0.1128     \n",
      "Epoch 91/100\n",
      "101/101 [==============================] - 0s - loss: 0.1118     \n",
      "Epoch 92/100\n",
      "101/101 [==============================] - 0s - loss: 0.1115     \n",
      "Epoch 93/100\n",
      "101/101 [==============================] - 0s - loss: 0.1111     \n",
      "Epoch 94/100\n",
      "101/101 [==============================] - 0s - loss: 0.1111     \n",
      "Epoch 95/100\n",
      "101/101 [==============================] - 0s - loss: 0.1107     \n",
      "Epoch 96/100\n",
      "101/101 [==============================] - 0s - loss: 0.1106     \n",
      "Epoch 97/100\n",
      "101/101 [==============================] - 0s - loss: 0.1099     \n",
      "Epoch 98/100\n",
      "101/101 [==============================] - 0s - loss: 0.1097     \n",
      "Epoch 99/100\n",
      "101/101 [==============================] - 0s - loss: 0.1094     \n",
      "Epoch 100/100\n",
      "101/101 [==============================] - 0s - loss: 0.1091     \n"
     ]
    },
    {
     "data": {
      "text/plain": [
       "<keras.callbacks.History at 0x2349d08d518>"
      ]
     },
     "execution_count": 5,
     "metadata": {},
     "output_type": "execute_result"
    }
   ],
   "source": [
    "# Train\n",
    "model.fit(trX, trY, epochs=100, verbose=1)"
   ]
  },
  {
   "cell_type": "code",
   "execution_count": 6,
   "metadata": {},
   "outputs": [
    {
     "name": "stdout",
     "output_type": "stream",
     "text": [
      "Linear regression model is trained with weight w: 1.98, b: 0.03\n"
     ]
    }
   ],
   "source": [
    "# Print trained weights\n",
    "weights = model.layers[0].get_weights()\n",
    "w = weights[0][0][0]\n",
    "b = weights[1][0]\n",
    "print('Linear regression model is trained with weight w: %.2f, b: %.2f' % (w, b))"
   ]
  },
  {
   "cell_type": "code",
   "execution_count": 7,
   "metadata": {},
   "outputs": [
    {
     "data": {
      "image/png": "[encoded data removed]",
      "text/plain": [
       "<matplotlib.figure.Figure at 0x23563d1bcf8>"
      ]
     },
     "metadata": {},
     "output_type": "display_data"
    }
   ],
   "source": [
    "plt.plot(trX, trY, label='data')\n",
    "plt.plot(trX, w_init*trX + b_init, label='init')\n",
    "plt.plot(trX, w*trX + b, label='prediction')\n",
    "plt.legend()\n",
    "plt.show()"
   ]
  },
  {
   "cell_type": "code",
   "execution_count": null,
   "metadata": {
    "collapsed": true
   },
   "outputs": [],
   "source": []
  }
 ],
 "metadata": {
  "kernelspec": {
   "display_name": "Python 3",
   "language": "python",
   "name": "python3"
  },
  "language_info": {
   "codemirror_mode": {
    "name": "ipython",
    "version": 3
   },
   "file_extension": ".py",
   "mimetype": "text/x-python",
   "name": "python",
   "nbconvert_exporter": "python",
   "pygments_lexer": "ipython3",
   "version": "3.6.3"
  }
 },
 "nbformat": 4,
 "nbformat_minor": 1
}
