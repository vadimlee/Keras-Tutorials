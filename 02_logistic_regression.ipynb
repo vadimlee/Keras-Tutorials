{
 "cells": [
  {
   "cell_type": "code",
   "execution_count": 18,
   "metadata": {},
   "outputs": [],
   "source": [
    "from keras.models import Sequential\n",
    "from keras.layers import Dense\n",
    "from keras.optimizers import SGD\n",
    "from keras.datasets import mnist\n",
    "from keras.utils import np_utils\n",
    "import matplotlib.pyplot as plt\n",
    "import numpy as np"
   ]
  },
  {
   "cell_type": "code",
   "execution_count": 2,
   "metadata": {
    "collapsed": true
   },
   "outputs": [],
   "source": [
    "batch_size = 128\n",
    "nb_classes = 10\n",
    "nb_epoch = 100"
   ]
  },
  {
   "cell_type": "code",
   "execution_count": 9,
   "metadata": {
    "collapsed": true
   },
   "outputs": [],
   "source": [
    "def plot_model_history(model_history):\n",
    "    fig, axs = plt.subplots(1,2,figsize=(15,5))\n",
    "    # summarize history for accuracy\n",
    "    axs[0].plot(range(1,len(model_history.history['acc'])+1),model_history.history['acc'])\n",
    "    axs[0].plot(range(1,len(model_history.history['val_acc'])+1),model_history.history['val_acc'])\n",
    "    axs[0].set_title('Model Accuracy')\n",
    "    axs[0].set_ylabel('Accuracy')\n",
    "    axs[0].set_xlabel('Epoch')\n",
    "    axs[0].set_xticks(np.arange(1,len(model_history.history['acc'])+1),len(model_history.history['acc'])/10)\n",
    "    axs[0].legend(['train', 'val'], loc='best')\n",
    "    # summarize history for loss\n",
    "    axs[1].plot(range(1,len(model_history.history['loss'])+1),model_history.history['loss'])\n",
    "    axs[1].plot(range(1,len(model_history.history['val_loss'])+1),model_history.history['val_loss'])\n",
    "    axs[1].set_title('Model Loss')\n",
    "    axs[1].set_ylabel('Loss')\n",
    "    axs[1].set_xlabel('Epoch')\n",
    "    axs[1].set_xticks(np.arange(1,len(model_history.history['loss'])+1),len(model_history.history['loss'])/10)\n",
    "    axs[1].legend(['train', 'val'], loc='best')\n",
    "    plt.show()"
   ]
  },
  {
   "cell_type": "code",
   "execution_count": 13,
   "metadata": {
    "collapsed": true
   },
   "outputs": [],
   "source": [
    "# Load MNIST dataset\n",
    "(X_train, y_train), (X_test, y_test) = mnist.load_data()\n",
    "X_train = X_train.reshape(60000, 784)\n",
    "X_test = X_test.reshape(10000, 784)\n",
    "X_train = X_train.astype('float32')\n",
    "X_test = X_test.astype('float32')\n",
    "X_train /= 255\n",
    "X_test /= 255\n",
    "Y_train = np_utils.to_categorical(y_train, nb_classes)\n",
    "Y_test = np_utils.to_categorical(y_test, nb_classes)"
   ]
  },
  {
   "cell_type": "code",
   "execution_count": 14,
   "metadata": {},
   "outputs": [
    {
     "name": "stdout",
     "output_type": "stream",
     "text": [
      "_________________________________________________________________\n",
      "Layer (type)                 Output Shape              Param #   \n",
      "=================================================================\n",
      "dense_4 (Dense)              (None, 10)                7850      \n",
      "=================================================================\n",
      "Total params: 7,850\n",
      "Trainable params: 7,850\n",
      "Non-trainable params: 0\n",
      "_________________________________________________________________\n"
     ]
    }
   ],
   "source": [
    "# Logistic regression model\n",
    "model = Sequential()\n",
    "model.add(Dense(input_shape=(784,), activation=\"softmax\", units=10, kernel_initializer=\"normal\"))\n",
    "model.compile(optimizer=SGD(lr=0.05), loss='categorical_crossentropy', metrics=['accuracy'])\n",
    "model.summary()"
   ]
  },
  {
   "cell_type": "code",
   "execution_count": 15,
   "metadata": {},
   "outputs": [
    {
     "name": "stdout",
     "output_type": "stream",
     "text": [
      "Train on 60000 samples, validate on 10000 samples\n",
      "Epoch 1/100\n",
      "60000/60000 [==============================] - 1s - loss: 0.7179 - acc: 0.8296 - val_loss: 0.4502 - val_acc: 0.8872\n",
      "Epoch 2/100\n",
      "60000/60000 [==============================] - 1s - loss: 0.4324 - acc: 0.8847 - val_loss: 0.3801 - val_acc: 0.8995\n",
      "Epoch 3/100\n",
      "60000/60000 [==============================] - 1s - loss: 0.3856 - acc: 0.8947 - val_loss: 0.3516 - val_acc: 0.9058\n",
      "Epoch 4/100\n",
      "60000/60000 [==============================] - 1s - loss: 0.3622 - acc: 0.9005 - val_loss: 0.3348 - val_acc: 0.9077\n",
      "Epoch 5/100\n",
      "60000/60000 [==============================] - 1s - loss: 0.3473 - acc: 0.9037 - val_loss: 0.3237 - val_acc: 0.9100\n",
      "Epoch 6/100\n",
      "60000/60000 [==============================] - 1s - loss: 0.3365 - acc: 0.9062 - val_loss: 0.3174 - val_acc: 0.9119\n",
      "Epoch 7/100\n",
      "60000/60000 [==============================] - 1s - loss: 0.3285 - acc: 0.9087 - val_loss: 0.3110 - val_acc: 0.9137\n",
      "Epoch 8/100\n",
      "60000/60000 [==============================] - 1s - loss: 0.3222 - acc: 0.9100 - val_loss: 0.3055 - val_acc: 0.9156\n",
      "Epoch 9/100\n",
      "60000/60000 [==============================] - 1s - loss: 0.3169 - acc: 0.9115 - val_loss: 0.3010 - val_acc: 0.9175\n",
      "Epoch 10/100\n",
      "60000/60000 [==============================] - 1s - loss: 0.3124 - acc: 0.9127 - val_loss: 0.2985 - val_acc: 0.9168\n",
      "Epoch 11/100\n",
      "60000/60000 [==============================] - 1s - loss: 0.3086 - acc: 0.9135 - val_loss: 0.2949 - val_acc: 0.9181\n",
      "Epoch 12/100\n",
      "60000/60000 [==============================] - 1s - loss: 0.3053 - acc: 0.9152 - val_loss: 0.2928 - val_acc: 0.9190\n",
      "Epoch 13/100\n",
      "60000/60000 [==============================] - 1s - loss: 0.3024 - acc: 0.9161 - val_loss: 0.2910 - val_acc: 0.9187\n",
      "Epoch 14/100\n",
      "60000/60000 [==============================] - 1s - loss: 0.2998 - acc: 0.9162 - val_loss: 0.2894 - val_acc: 0.9187\n",
      "Epoch 15/100\n",
      "60000/60000 [==============================] - 1s - loss: 0.2976 - acc: 0.9171 - val_loss: 0.2880 - val_acc: 0.9189\n",
      "Epoch 16/100\n",
      "60000/60000 [==============================] - 1s - loss: 0.2954 - acc: 0.9177 - val_loss: 0.2867 - val_acc: 0.9202\n",
      "Epoch 17/100\n",
      "60000/60000 [==============================] - 1s - loss: 0.2934 - acc: 0.9185 - val_loss: 0.2855 - val_acc: 0.9190\n",
      "Epoch 18/100\n",
      "60000/60000 [==============================] - 1s - loss: 0.2917 - acc: 0.9188 - val_loss: 0.2843 - val_acc: 0.9194\n",
      "Epoch 19/100\n",
      "60000/60000 [==============================] - 1s - loss: 0.2899 - acc: 0.9190 - val_loss: 0.2831 - val_acc: 0.9207\n",
      "Epoch 20/100\n",
      "60000/60000 [==============================] - 1s - loss: 0.2886 - acc: 0.9195 - val_loss: 0.2821 - val_acc: 0.9209\n",
      "Epoch 21/100\n",
      "60000/60000 [==============================] - 1s - loss: 0.2871 - acc: 0.9199 - val_loss: 0.2809 - val_acc: 0.9208\n",
      "Epoch 22/100\n",
      "60000/60000 [==============================] - 1s - loss: 0.2858 - acc: 0.9201 - val_loss: 0.2802 - val_acc: 0.9217\n",
      "Epoch 23/100\n",
      "60000/60000 [==============================] - 1s - loss: 0.2846 - acc: 0.9213 - val_loss: 0.2794 - val_acc: 0.9216\n",
      "Epoch 24/100\n",
      "60000/60000 [==============================] - 1s - loss: 0.2834 - acc: 0.9211 - val_loss: 0.2789 - val_acc: 0.9216\n",
      "Epoch 25/100\n",
      "60000/60000 [==============================] - 1s - loss: 0.2824 - acc: 0.9215 - val_loss: 0.2790 - val_acc: 0.9208\n",
      "Epoch 26/100\n",
      "60000/60000 [==============================] - 1s - loss: 0.2814 - acc: 0.9219 - val_loss: 0.2773 - val_acc: 0.9231\n",
      "Epoch 27/100\n",
      "60000/60000 [==============================] - 1s - loss: 0.2803 - acc: 0.9222 - val_loss: 0.2782 - val_acc: 0.9210\n",
      "Epoch 28/100\n",
      "60000/60000 [==============================] - 1s - loss: 0.2796 - acc: 0.9223 - val_loss: 0.2764 - val_acc: 0.9222\n",
      "Epoch 29/100\n",
      "60000/60000 [==============================] - 1s - loss: 0.2785 - acc: 0.9227 - val_loss: 0.2768 - val_acc: 0.9220\n",
      "Epoch 30/100\n",
      "60000/60000 [==============================] - 1s - loss: 0.2778 - acc: 0.9227 - val_loss: 0.2766 - val_acc: 0.9221\n",
      "Epoch 31/100\n",
      "60000/60000 [==============================] - 1s - loss: 0.2770 - acc: 0.9231 - val_loss: 0.2756 - val_acc: 0.9222\n",
      "Epoch 32/100\n",
      "60000/60000 [==============================] - 1s - loss: 0.2763 - acc: 0.9235 - val_loss: 0.2753 - val_acc: 0.9223\n",
      "Epoch 33/100\n",
      "60000/60000 [==============================] - 1s - loss: 0.2756 - acc: 0.9236 - val_loss: 0.2749 - val_acc: 0.9221\n",
      "Epoch 34/100\n",
      "60000/60000 [==============================] - 1s - loss: 0.2748 - acc: 0.9237 - val_loss: 0.2742 - val_acc: 0.9209\n",
      "Epoch 35/100\n",
      "60000/60000 [==============================] - ETA: 0s - loss: 0.2740 - acc: 0.923 - 1s - loss: 0.2742 - acc: 0.9238 - val_loss: 0.2742 - val_acc: 0.9221\n",
      "Epoch 36/100\n",
      "60000/60000 [==============================] - 1s - loss: 0.2735 - acc: 0.9243 - val_loss: 0.2740 - val_acc: 0.9228\n",
      "Epoch 37/100\n",
      "60000/60000 [==============================] - 1s - loss: 0.2729 - acc: 0.9242 - val_loss: 0.2736 - val_acc: 0.9229\n",
      "Epoch 38/100\n",
      "60000/60000 [==============================] - 1s - loss: 0.2723 - acc: 0.9246 - val_loss: 0.2730 - val_acc: 0.9227\n",
      "Epoch 39/100\n",
      "60000/60000 [==============================] - 1s - loss: 0.2717 - acc: 0.9247 - val_loss: 0.2723 - val_acc: 0.9226\n",
      "Epoch 40/100\n",
      "60000/60000 [==============================] - 1s - loss: 0.2711 - acc: 0.9247 - val_loss: 0.2725 - val_acc: 0.9226\n",
      "Epoch 41/100\n",
      "60000/60000 [==============================] - 1s - loss: 0.2706 - acc: 0.9248 - val_loss: 0.2719 - val_acc: 0.9229\n",
      "Epoch 42/100\n",
      "60000/60000 [==============================] - 1s - loss: 0.2703 - acc: 0.9250 - val_loss: 0.2723 - val_acc: 0.9228\n",
      "Epoch 43/100\n",
      "60000/60000 [==============================] - 1s - loss: 0.2696 - acc: 0.9255 - val_loss: 0.2723 - val_acc: 0.9236\n",
      "Epoch 44/100\n",
      "60000/60000 [==============================] - 1s - loss: 0.2691 - acc: 0.9255 - val_loss: 0.2712 - val_acc: 0.9225\n",
      "Epoch 45/100\n",
      "60000/60000 [==============================] - 1s - loss: 0.2687 - acc: 0.9259 - val_loss: 0.2718 - val_acc: 0.9239\n",
      "Epoch 46/100\n",
      "60000/60000 [==============================] - 1s - loss: 0.2682 - acc: 0.9258 - val_loss: 0.2706 - val_acc: 0.9225\n",
      "Epoch 47/100\n",
      "60000/60000 [==============================] - 1s - loss: 0.2678 - acc: 0.9261 - val_loss: 0.2708 - val_acc: 0.9235\n",
      "Epoch 48/100\n",
      "60000/60000 [==============================] - 1s - loss: 0.2673 - acc: 0.9263 - val_loss: 0.2707 - val_acc: 0.9230\n",
      "Epoch 49/100\n",
      "60000/60000 [==============================] - 1s - loss: 0.2670 - acc: 0.9262 - val_loss: 0.2708 - val_acc: 0.9224\n",
      "Epoch 50/100\n",
      "60000/60000 [==============================] - 1s - loss: 0.2665 - acc: 0.9261 - val_loss: 0.2709 - val_acc: 0.9240\n",
      "Epoch 51/100\n",
      "60000/60000 [==============================] - 1s - loss: 0.2661 - acc: 0.9262 - val_loss: 0.2702 - val_acc: 0.9234\n",
      "Epoch 52/100\n",
      "60000/60000 [==============================] - 1s - loss: 0.2658 - acc: 0.9264 - val_loss: 0.2698 - val_acc: 0.9233\n",
      "Epoch 53/100\n",
      "60000/60000 [==============================] - 1s - loss: 0.2654 - acc: 0.9267 - val_loss: 0.2703 - val_acc: 0.9225\n",
      "Epoch 54/100\n",
      "60000/60000 [==============================] - 1s - loss: 0.2651 - acc: 0.9264 - val_loss: 0.2705 - val_acc: 0.9240\n",
      "Epoch 55/100\n",
      "60000/60000 [==============================] - 1s - loss: 0.2646 - acc: 0.9266 - val_loss: 0.2692 - val_acc: 0.9231\n",
      "Epoch 56/100\n",
      "60000/60000 [==============================] - 1s - loss: 0.2643 - acc: 0.9268 - val_loss: 0.2688 - val_acc: 0.9242\n",
      "Epoch 57/100\n",
      "60000/60000 [==============================] - 1s - loss: 0.2640 - acc: 0.9273 - val_loss: 0.2691 - val_acc: 0.9234\n",
      "Epoch 58/100\n",
      "60000/60000 [==============================] - 1s - loss: 0.2636 - acc: 0.9272 - val_loss: 0.2692 - val_acc: 0.9235\n",
      "Epoch 59/100\n",
      "60000/60000 [==============================] - 1s - loss: 0.2633 - acc: 0.9273 - val_loss: 0.2686 - val_acc: 0.9248\n",
      "Epoch 60/100\n",
      "60000/60000 [==============================] - 1s - loss: 0.2630 - acc: 0.9275 - val_loss: 0.2687 - val_acc: 0.9243\n",
      "Epoch 61/100\n",
      "60000/60000 [==============================] - 1s - loss: 0.2627 - acc: 0.9275 - val_loss: 0.2683 - val_acc: 0.9241\n",
      "Epoch 62/100\n",
      "60000/60000 [==============================] - 1s - loss: 0.2624 - acc: 0.9278 - val_loss: 0.2683 - val_acc: 0.9247\n",
      "Epoch 63/100\n"
     ]
    },
    {
     "name": "stdout",
     "output_type": "stream",
     "text": [
      "60000/60000 [==============================] - 1s - loss: 0.2621 - acc: 0.9276 - val_loss: 0.2685 - val_acc: 0.9238\n",
      "Epoch 64/100\n",
      "60000/60000 [==============================] - 1s - loss: 0.2618 - acc: 0.9279 - val_loss: 0.2682 - val_acc: 0.9242\n",
      "Epoch 65/100\n",
      "60000/60000 [==============================] - 1s - loss: 0.2615 - acc: 0.9277 - val_loss: 0.2677 - val_acc: 0.9241\n",
      "Epoch 66/100\n",
      "60000/60000 [==============================] - 1s - loss: 0.2613 - acc: 0.9280 - val_loss: 0.2674 - val_acc: 0.9243\n",
      "Epoch 67/100\n",
      "60000/60000 [==============================] - 1s - loss: 0.2610 - acc: 0.9284 - val_loss: 0.2681 - val_acc: 0.9234\n",
      "Epoch 68/100\n",
      "60000/60000 [==============================] - 1s - loss: 0.2607 - acc: 0.9283 - val_loss: 0.2679 - val_acc: 0.9240\n",
      "Epoch 69/100\n",
      "60000/60000 [==============================] - 1s - loss: 0.2604 - acc: 0.9280 - val_loss: 0.2678 - val_acc: 0.9244\n",
      "Epoch 70/100\n",
      "60000/60000 [==============================] - 1s - loss: 0.2601 - acc: 0.9278 - val_loss: 0.2678 - val_acc: 0.9251\n",
      "Epoch 71/100\n",
      "60000/60000 [==============================] - 1s - loss: 0.2600 - acc: 0.9282 - val_loss: 0.2671 - val_acc: 0.9245\n",
      "Epoch 72/100\n",
      "60000/60000 [==============================] - 1s - loss: 0.2598 - acc: 0.9283 - val_loss: 0.2671 - val_acc: 0.9243\n",
      "Epoch 73/100\n",
      "60000/60000 [==============================] - 1s - loss: 0.2595 - acc: 0.9285 - val_loss: 0.2673 - val_acc: 0.9254\n",
      "Epoch 74/100\n",
      "60000/60000 [==============================] - 1s - loss: 0.2592 - acc: 0.9285 - val_loss: 0.2673 - val_acc: 0.9242\n",
      "Epoch 75/100\n",
      "60000/60000 [==============================] - 1s - loss: 0.2589 - acc: 0.9285 - val_loss: 0.2670 - val_acc: 0.9248\n",
      "Epoch 76/100\n",
      "60000/60000 [==============================] - 1s - loss: 0.2587 - acc: 0.9287 - val_loss: 0.2677 - val_acc: 0.9240\n",
      "Epoch 77/100\n",
      "60000/60000 [==============================] - 1s - loss: 0.2585 - acc: 0.9289 - val_loss: 0.2669 - val_acc: 0.9251\n",
      "Epoch 78/100\n",
      "60000/60000 [==============================] - 1s - loss: 0.2582 - acc: 0.9289 - val_loss: 0.2680 - val_acc: 0.9252\n",
      "Epoch 79/100\n",
      "60000/60000 [==============================] - 1s - loss: 0.2581 - acc: 0.9288 - val_loss: 0.2679 - val_acc: 0.9245\n",
      "Epoch 80/100\n",
      "60000/60000 [==============================] - 1s - loss: 0.2578 - acc: 0.9293 - val_loss: 0.2674 - val_acc: 0.9244\n",
      "Epoch 81/100\n",
      "60000/60000 [==============================] - 1s - loss: 0.2576 - acc: 0.9290 - val_loss: 0.2673 - val_acc: 0.9253\n",
      "Epoch 82/100\n",
      "60000/60000 [==============================] - 1s - loss: 0.2573 - acc: 0.9293 - val_loss: 0.2674 - val_acc: 0.9245\n",
      "Epoch 83/100\n",
      "60000/60000 [==============================] - 1s - loss: 0.2571 - acc: 0.9289 - val_loss: 0.2677 - val_acc: 0.9246\n",
      "Epoch 84/100\n",
      "60000/60000 [==============================] - 1s - loss: 0.2569 - acc: 0.9294 - val_loss: 0.2661 - val_acc: 0.9251\n",
      "Epoch 85/100\n",
      "60000/60000 [==============================] - 1s - loss: 0.2567 - acc: 0.9294 - val_loss: 0.2664 - val_acc: 0.9255\n",
      "Epoch 86/100\n",
      "60000/60000 [==============================] - 1s - loss: 0.2565 - acc: 0.9292 - val_loss: 0.2664 - val_acc: 0.9253\n",
      "Epoch 87/100\n",
      "60000/60000 [==============================] - 1s - loss: 0.2563 - acc: 0.9296 - val_loss: 0.2666 - val_acc: 0.9250\n",
      "Epoch 88/100\n",
      "60000/60000 [==============================] - 1s - loss: 0.2561 - acc: 0.9293 - val_loss: 0.2671 - val_acc: 0.9246\n",
      "Epoch 89/100\n",
      "60000/60000 [==============================] - 1s - loss: 0.2559 - acc: 0.9296 - val_loss: 0.2669 - val_acc: 0.9255\n",
      "Epoch 90/100\n",
      "60000/60000 [==============================] - 1s - loss: 0.2558 - acc: 0.9294 - val_loss: 0.2665 - val_acc: 0.9263\n",
      "Epoch 91/100\n",
      "60000/60000 [==============================] - 1s - loss: 0.2556 - acc: 0.9297 - val_loss: 0.2667 - val_acc: 0.9241\n",
      "Epoch 92/100\n",
      "60000/60000 [==============================] - 1s - loss: 0.2554 - acc: 0.9293 - val_loss: 0.2666 - val_acc: 0.9256\n",
      "Epoch 93/100\n",
      "60000/60000 [==============================] - 1s - loss: 0.2552 - acc: 0.9298 - val_loss: 0.2661 - val_acc: 0.9250\n",
      "Epoch 94/100\n",
      "60000/60000 [==============================] - 1s - loss: 0.2551 - acc: 0.9300 - val_loss: 0.2667 - val_acc: 0.9252\n",
      "Epoch 95/100\n",
      "60000/60000 [==============================] - 1s - loss: 0.2549 - acc: 0.9300 - val_loss: 0.2658 - val_acc: 0.9257\n",
      "Epoch 96/100\n",
      "60000/60000 [==============================] - 1s - loss: 0.2548 - acc: 0.9297 - val_loss: 0.2667 - val_acc: 0.9247\n",
      "Epoch 97/100\n",
      "60000/60000 [==============================] - 1s - loss: 0.2546 - acc: 0.9298 - val_loss: 0.2660 - val_acc: 0.9253\n",
      "Epoch 98/100\n",
      "60000/60000 [==============================] - 1s - loss: 0.2544 - acc: 0.9301 - val_loss: 0.2661 - val_acc: 0.9250\n",
      "Epoch 99/100\n",
      "60000/60000 [==============================] - 1s - loss: 0.2542 - acc: 0.9302 - val_loss: 0.2658 - val_acc: 0.9256\n",
      "Epoch 100/100\n",
      "60000/60000 [==============================] - 1s - loss: 0.2541 - acc: 0.9304 - val_loss: 0.2657 - val_acc: 0.9258\n"
     ]
    }
   ],
   "source": [
    "# Train\n",
    "history = model.fit(X_train, Y_Train, epochs=nb_epoch, batch_size=batch_size, verbose=1,validation_data=(X_test,Y_test))"
   ]
  },
  {
   "cell_type": "code",
   "execution_count": 16,
   "metadata": {},
   "outputs": [
    {
     "name": "stdout",
     "output_type": "stream",
     "text": [
      " 9312/10000 [==========================>...] - ETA: 0s\n",
      "Summary: Loss over the test dataset: 0.27, Accuracy: 0.93\n"
     ]
    }
   ],
   "source": [
    "# Evaluate\n",
    "evaluation = model.evaluate(X_test, Y_Test, verbose=1)\n",
    "print('\\nSummary: Loss over the test dataset: %.2f, Accuracy: %.2f' % (evaluation[0], evaluation[1]))"
   ]
  },
  {
   "cell_type": "code",
   "execution_count": 20,
   "metadata": {},
   "outputs": [
    {
     "name": "stdout",
     "output_type": "stream",
     "text": [
      "dict_keys(['val_loss', 'val_acc', 'loss', 'acc'])\n"
     ]
    },
    {
     "data": {
      "image/png": "[encoded data removed]",
      "text/plain": [
       "<matplotlib.figure.Figure at 0x28d2df598d0>"
      ]
     },
     "metadata": {},
     "output_type": "display_data"
    }
   ],
   "source": [
    "# list all data in history\n",
    "print(history.history.keys())\n",
    "plot_model_history(history)"
   ]
  },
  {
   "cell_type": "code",
   "execution_count": null,
   "metadata": {
    "collapsed": true
   },
   "outputs": [],
   "source": []
  }
 ],
 "metadata": {
  "kernelspec": {
   "display_name": "Python 3",
   "language": "python",
   "name": "python3"
  },
  "language_info": {
   "codemirror_mode": {
    "name": "ipython",
    "version": 3
   },
   "file_extension": ".py",
   "mimetype": "text/x-python",
   "name": "python",
   "nbconvert_exporter": "python",
   "pygments_lexer": "ipython3",
   "version": "3.6.3"
  }
 },
 "nbformat": 4,
 "nbformat_minor": 2
}
