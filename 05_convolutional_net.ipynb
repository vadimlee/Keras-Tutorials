{
 "cells": [
  {
   "cell_type": "code",
   "execution_count": 13,
   "metadata": {},
   "outputs": [],
   "source": [
    "from keras.models import Sequential\n",
    "from keras.layers import Dense, Flatten, Convolution2D, MaxPooling2D, Dropout\n",
    "from keras.optimizers import RMSprop\n",
    "from keras.datasets import mnist\n",
    "from keras.utils import np_utils\n",
    "from keras import initializers\n",
    "from keras import backend as K\n",
    "import matplotlib.pyplot as plt\n",
    "import numpy as np"
   ]
  },
  {
   "cell_type": "code",
   "execution_count": 2,
   "metadata": {
    "collapsed": true
   },
   "outputs": [],
   "source": [
    "batch_size = 128\n",
    "nb_classes = 10\n",
    "nb_epoch = 50\n",
    "\n",
    "img_rows, img_cols = 28, 28         # input image dimensions\n",
    "pool_size = (2, 2)                  # size of pooling area for max pooling\n",
    "prob_drop_conv = 0.2                # drop probability for dropout @ conv layer\n",
    "prob_drop_hidden = 0.5              # drop probability for dropout @ fc layer"
   ]
  },
  {
   "cell_type": "code",
   "execution_count": 3,
   "metadata": {
    "collapsed": true
   },
   "outputs": [],
   "source": [
    "def init_weights(shape, name=None):\n",
    "    return initializers.normal(shape,name=name)\n",
    "    #return initializers.normal(shape, scale=0.01, name=name)"
   ]
  },
  {
   "cell_type": "code",
   "execution_count": 4,
   "metadata": {
    "collapsed": true
   },
   "outputs": [],
   "source": [
    "def plot_model_history(model_history):\n",
    "    fig, axs = plt.subplots(1,2,figsize=(15,5))\n",
    "    # summarize history for accuracy\n",
    "    axs[0].plot(range(1,len(model_history.history['acc'])+1),model_history.history['acc'])\n",
    "    axs[0].plot(range(1,len(model_history.history['val_acc'])+1),model_history.history['val_acc'])\n",
    "    axs[0].set_title('Model Accuracy')\n",
    "    axs[0].set_ylabel('Accuracy')\n",
    "    axs[0].set_xlabel('Epoch')\n",
    "    axs[0].set_xticks(np.arange(1,len(model_history.history['acc'])+1),len(model_history.history['acc'])/10)\n",
    "    axs[0].legend(['train', 'val'], loc='best')\n",
    "    # summarize history for loss\n",
    "    axs[1].plot(range(1,len(model_history.history['loss'])+1),model_history.history['loss'])\n",
    "    axs[1].plot(range(1,len(model_history.history['val_loss'])+1),model_history.history['val_loss'])\n",
    "    axs[1].set_title('Model Loss')\n",
    "    axs[1].set_ylabel('Loss')\n",
    "    axs[1].set_xlabel('Epoch')\n",
    "    axs[1].set_xticks(np.arange(1,len(model_history.history['loss'])+1),len(model_history.history['loss'])/10)\n",
    "    axs[1].legend(['train', 'val'], loc='best')\n",
    "    plt.show()"
   ]
  },
  {
   "cell_type": "code",
   "execution_count": 5,
   "metadata": {},
   "outputs": [
    {
     "name": "stdout",
     "output_type": "stream",
     "text": [
      "X_train original shape: (60000, 28, 28)\n"
     ]
    }
   ],
   "source": [
    "# Load MNIST dataset\n",
    "(X_train, y_train), (X_test, y_test) = mnist.load_data()\n",
    "print('X_train original shape:', X_train.shape)\n",
    "\n",
    "if K.image_dim_ordering() == 'th':\n",
    "    # For Theano backend\n",
    "    X_train = X_train.reshape(X_train.shape[0], 1, img_rows, img_cols)\n",
    "    X_test = X_test.reshape(X_test.shape[0], 1, img_rows, img_cols)\n",
    "    input_shape = (1, img_rows, img_cols)\n",
    "else:\n",
    "    # For TensorFlow backend\n",
    "    X_train = X_train.reshape(X_train.shape[0], img_rows, img_cols, 1)\n",
    "    X_test = X_test.reshape(X_test.shape[0], img_rows, img_cols, 1)\n",
    "    input_shape = (img_rows, img_cols, 1)"
   ]
  },
  {
   "cell_type": "code",
   "execution_count": 6,
   "metadata": {},
   "outputs": [
    {
     "name": "stdout",
     "output_type": "stream",
     "text": [
      "X_train shape: (60000, 28, 28, 1)\n",
      "60000 train samples\n",
      "10000 test samples\n"
     ]
    }
   ],
   "source": [
    "X_train = X_train.astype('float32') / 255.\n",
    "X_test = X_test.astype('float32') / 255.\n",
    "Y_train = np_utils.to_categorical(y_train, nb_classes)\n",
    "Y_test = np_utils.to_categorical(y_test, nb_classes)\n",
    "\n",
    "print('X_train shape:', X_train.shape)\n",
    "print(X_train.shape[0], 'train samples')\n",
    "print(X_test.shape[0], 'test samples')"
   ]
  },
  {
   "cell_type": "code",
   "execution_count": 9,
   "metadata": {},
   "outputs": [
    {
     "name": "stdout",
     "output_type": "stream",
     "text": [
      "_________________________________________________________________\n",
      "Layer (type)                 Output Shape              Param #   \n",
      "=================================================================\n",
      "conv2d_4 (Conv2D)            (None, 28, 28, 32)        320       \n",
      "_________________________________________________________________\n",
      "max_pooling2d_4 (MaxPooling2 (None, 14, 14, 32)        0         \n",
      "_________________________________________________________________\n",
      "dropout_5 (Dropout)          (None, 14, 14, 32)        0         \n",
      "_________________________________________________________________\n",
      "conv2d_5 (Conv2D)            (None, 14, 14, 64)        18496     \n",
      "_________________________________________________________________\n",
      "max_pooling2d_5 (MaxPooling2 (None, 7, 7, 64)          0         \n",
      "_________________________________________________________________\n",
      "dropout_6 (Dropout)          (None, 7, 7, 64)          0         \n",
      "_________________________________________________________________\n",
      "conv2d_6 (Conv2D)            (None, 7, 7, 128)         73856     \n",
      "_________________________________________________________________\n",
      "max_pooling2d_6 (MaxPooling2 (None, 4, 4, 128)         0         \n",
      "_________________________________________________________________\n",
      "flatten_2 (Flatten)          (None, 2048)              0         \n",
      "_________________________________________________________________\n",
      "dropout_7 (Dropout)          (None, 2048)              0         \n",
      "_________________________________________________________________\n",
      "dense_3 (Dense)              (None, 625)               1280625   \n",
      "_________________________________________________________________\n",
      "dropout_8 (Dropout)          (None, 625)               0         \n",
      "_________________________________________________________________\n",
      "dense_4 (Dense)              (None, 10)                6260      \n",
      "=================================================================\n",
      "Total params: 1,379,557\n",
      "Trainable params: 1,379,557\n",
      "Non-trainable params: 0\n",
      "_________________________________________________________________\n"
     ]
    }
   ],
   "source": [
    "# Convolutional model\n",
    "model = Sequential()\n",
    "\n",
    "# conv1 layer\n",
    "model.add(Convolution2D(32, (3, 3), activation='relu', input_shape=input_shape, kernel_initializer='normal', padding='same'))\n",
    "model.add(MaxPooling2D(pool_size=pool_size, strides=(2,2), padding='same'))\n",
    "model.add(Dropout(prob_drop_conv))\n",
    "\n",
    "# conv2 layer\n",
    "model.add(Convolution2D(64, (3, 3), activation='relu', kernel_initializer='normal', padding='same'))\n",
    "model.add(MaxPooling2D(pool_size=pool_size, strides=(2,2), padding='same'))\n",
    "model.add(Dropout(prob_drop_conv))\n",
    "\n",
    "# conv3 layer\n",
    "model.add(Convolution2D(128, (3, 3), activation='relu', kernel_initializer='normal', padding='same'))\n",
    "model.add(MaxPooling2D(pool_size=pool_size, strides=(2,2), padding='same'))\n",
    "model.add(Flatten())\n",
    "model.add(Dropout(prob_drop_conv))\n",
    "\n",
    "# fc1 layer\n",
    "model.add(Dense(625, activation='relu', kernel_initializer='normal'))\n",
    "model.add(Dropout(prob_drop_hidden))\n",
    "\n",
    "# fc2 layer\n",
    "model.add(Dense(10, activation='softmax', kernel_initializer='normal'))\n",
    "\n",
    "opt = RMSprop(lr=0.001, rho=0.9)\n",
    "model.compile(optimizer='adadelta', loss='categorical_crossentropy', metrics=['accuracy'])\n",
    "model.summary()"
   ]
  },
  {
   "cell_type": "code",
   "execution_count": 10,
   "metadata": {},
   "outputs": [
    {
     "name": "stdout",
     "output_type": "stream",
     "text": [
      "Train on 60000 samples, validate on 10000 samples\n",
      "Epoch 1/50\n",
      "60000/60000 [==============================] - 7s - loss: 0.4326 - acc: 0.8579 - val_loss: 0.0826 - val_acc: 0.9716\n",
      "Epoch 2/50\n",
      "60000/60000 [==============================] - 7s - loss: 0.1179 - acc: 0.9634 - val_loss: 0.0498 - val_acc: 0.9831\n",
      "Epoch 3/50\n",
      "60000/60000 [==============================] - 7s - loss: 0.0884 - acc: 0.9729 - val_loss: 0.0381 - val_acc: 0.9870\n",
      "Epoch 4/50\n",
      "60000/60000 [==============================] - 7s - loss: 0.0730 - acc: 0.9772 - val_loss: 0.0345 - val_acc: 0.9881\n",
      "Epoch 5/50\n",
      "60000/60000 [==============================] - 7s - loss: 0.0623 - acc: 0.9806 - val_loss: 0.0285 - val_acc: 0.9898\n",
      "Epoch 6/50\n",
      "60000/60000 [==============================] - 7s - loss: 0.0565 - acc: 0.9828 - val_loss: 0.0254 - val_acc: 0.9911\n",
      "Epoch 7/50\n",
      "60000/60000 [==============================] - 7s - loss: 0.0501 - acc: 0.9841 - val_loss: 0.0234 - val_acc: 0.9922\n",
      "Epoch 8/50\n",
      "60000/60000 [==============================] - 7s - loss: 0.0466 - acc: 0.9858 - val_loss: 0.0241 - val_acc: 0.9925\n",
      "Epoch 9/50\n",
      "60000/60000 [==============================] - 7s - loss: 0.0423 - acc: 0.9865 - val_loss: 0.0216 - val_acc: 0.9930\n",
      "Epoch 10/50\n",
      "60000/60000 [==============================] - 7s - loss: 0.0400 - acc: 0.9878 - val_loss: 0.0202 - val_acc: 0.9923\n",
      "Epoch 11/50\n",
      "60000/60000 [==============================] - 7s - loss: 0.0366 - acc: 0.9887 - val_loss: 0.0207 - val_acc: 0.9936\n",
      "Epoch 12/50\n",
      "60000/60000 [==============================] - 7s - loss: 0.0363 - acc: 0.9882 - val_loss: 0.0214 - val_acc: 0.9935\n",
      "Epoch 13/50\n",
      "60000/60000 [==============================] - 7s - loss: 0.0332 - acc: 0.9892 - val_loss: 0.0187 - val_acc: 0.9935\n",
      "Epoch 14/50\n",
      "60000/60000 [==============================] - 7s - loss: 0.0306 - acc: 0.9901 - val_loss: 0.0177 - val_acc: 0.9942\n",
      "Epoch 15/50\n",
      "60000/60000 [==============================] - 7s - loss: 0.0291 - acc: 0.9909 - val_loss: 0.0184 - val_acc: 0.9935\n",
      "Epoch 16/50\n",
      "60000/60000 [==============================] - 7s - loss: 0.0280 - acc: 0.9906 - val_loss: 0.0180 - val_acc: 0.9939\n",
      "Epoch 17/50\n",
      "60000/60000 [==============================] - 7s - loss: 0.0259 - acc: 0.9917 - val_loss: 0.0169 - val_acc: 0.9942\n",
      "Epoch 18/50\n",
      "60000/60000 [==============================] - 7s - loss: 0.0263 - acc: 0.9917 - val_loss: 0.0165 - val_acc: 0.9943\n",
      "Epoch 19/50\n",
      "60000/60000 [==============================] - 7s - loss: 0.0261 - acc: 0.9919 - val_loss: 0.0172 - val_acc: 0.9937\n",
      "Epoch 20/50\n",
      "60000/60000 [==============================] - 7s - loss: 0.0246 - acc: 0.9920 - val_loss: 0.0172 - val_acc: 0.9940\n",
      "Epoch 21/50\n",
      "60000/60000 [==============================] - 7s - loss: 0.0228 - acc: 0.9928 - val_loss: 0.0164 - val_acc: 0.9941\n",
      "Epoch 22/50\n",
      "60000/60000 [==============================] - 7s - loss: 0.0223 - acc: 0.9927 - val_loss: 0.0162 - val_acc: 0.9947\n",
      "Epoch 23/50\n",
      "60000/60000 [==============================] - 7s - loss: 0.0206 - acc: 0.9932 - val_loss: 0.0163 - val_acc: 0.9944\n",
      "Epoch 24/50\n",
      "60000/60000 [==============================] - 7s - loss: 0.0213 - acc: 0.9935 - val_loss: 0.0170 - val_acc: 0.9947\n",
      "Epoch 25/50\n",
      "60000/60000 [==============================] - 7s - loss: 0.0195 - acc: 0.9935 - val_loss: 0.0167 - val_acc: 0.9943\n",
      "Epoch 26/50\n",
      "60000/60000 [==============================] - 7s - loss: 0.0188 - acc: 0.9939 - val_loss: 0.0167 - val_acc: 0.9941\n",
      "Epoch 27/50\n",
      "60000/60000 [==============================] - 7s - loss: 0.0172 - acc: 0.9939 - val_loss: 0.0156 - val_acc: 0.9948\n",
      "Epoch 28/50\n",
      "60000/60000 [==============================] - 7s - loss: 0.0181 - acc: 0.9943 - val_loss: 0.0159 - val_acc: 0.9942\n",
      "Epoch 29/50\n",
      "60000/60000 [==============================] - 7s - loss: 0.0184 - acc: 0.9943 - val_loss: 0.0157 - val_acc: 0.9948\n",
      "Epoch 30/50\n",
      "60000/60000 [==============================] - 7s - loss: 0.0165 - acc: 0.9950 - val_loss: 0.0154 - val_acc: 0.9942\n",
      "Epoch 31/50\n",
      "60000/60000 [==============================] - 7s - loss: 0.0156 - acc: 0.9950 - val_loss: 0.0141 - val_acc: 0.9950\n",
      "Epoch 32/50\n",
      "60000/60000 [==============================] - 7s - loss: 0.0163 - acc: 0.9948 - val_loss: 0.0144 - val_acc: 0.9945\n",
      "Epoch 33/50\n",
      "60000/60000 [==============================] - 6s - loss: 0.0155 - acc: 0.9950 - val_loss: 0.0151 - val_acc: 0.9946\n",
      "Epoch 34/50\n",
      "60000/60000 [==============================] - 7s - loss: 0.0144 - acc: 0.9952 - val_loss: 0.0163 - val_acc: 0.9947\n",
      "Epoch 35/50\n",
      "60000/60000 [==============================] - 11s - loss: 0.0147 - acc: 0.9953 - val_loss: 0.0144 - val_acc: 0.9951\n",
      "Epoch 36/50\n",
      "60000/60000 [==============================] - 36s - loss: 0.0139 - acc: 0.9956 - val_loss: 0.0149 - val_acc: 0.9946\n",
      "Epoch 37/50\n",
      "60000/60000 [==============================] - 7s - loss: 0.0132 - acc: 0.9959 - val_loss: 0.0185 - val_acc: 0.9941\n",
      "Epoch 38/50\n",
      "60000/60000 [==============================] - 7s - loss: 0.0142 - acc: 0.9955 - val_loss: 0.0155 - val_acc: 0.9948\n",
      "Epoch 39/50\n",
      "60000/60000 [==============================] - 7s - loss: 0.0130 - acc: 0.9958 - val_loss: 0.0153 - val_acc: 0.9950\n",
      "Epoch 40/50\n",
      "60000/60000 [==============================] - 7s - loss: 0.0125 - acc: 0.9960 - val_loss: 0.0161 - val_acc: 0.9949\n",
      "Epoch 41/50\n",
      "60000/60000 [==============================] - 6s - loss: 0.0131 - acc: 0.9960 - val_loss: 0.0156 - val_acc: 0.9947\n",
      "Epoch 42/50\n",
      "60000/60000 [==============================] - 7s - loss: 0.0117 - acc: 0.9960 - val_loss: 0.0153 - val_acc: 0.9944\n",
      "Epoch 43/50\n",
      "60000/60000 [==============================] - 7s - loss: 0.0121 - acc: 0.9959 - val_loss: 0.0155 - val_acc: 0.9945\n",
      "Epoch 44/50\n",
      "60000/60000 [==============================] - 7s - loss: 0.0111 - acc: 0.9963 - val_loss: 0.0157 - val_acc: 0.9946\n",
      "Epoch 45/50\n",
      "60000/60000 [==============================] - 7s - loss: 0.0110 - acc: 0.9965 - val_loss: 0.0167 - val_acc: 0.9949\n",
      "Epoch 46/50\n",
      "60000/60000 [==============================] - 7s - loss: 0.0119 - acc: 0.9962 - val_loss: 0.0138 - val_acc: 0.9951\n",
      "Epoch 47/50\n",
      "60000/60000 [==============================] - 7s - loss: 0.0111 - acc: 0.9964 - val_loss: 0.0171 - val_acc: 0.9947\n",
      "Epoch 48/50\n",
      "60000/60000 [==============================] - 6s - loss: 0.0102 - acc: 0.9965 - val_loss: 0.0157 - val_acc: 0.9947\n",
      "Epoch 49/50\n",
      "60000/60000 [==============================] - 7s - loss: 0.0103 - acc: 0.9966 - val_loss: 0.0159 - val_acc: 0.9947\n",
      "Epoch 50/50\n",
      "60000/60000 [==============================] - 7s - loss: 0.0099 - acc: 0.9969 - val_loss: 0.0151 - val_acc: 0.9946\n"
     ]
    }
   ],
   "source": [
    "# Train\n",
    "history = model.fit(X_train, Y_train, epochs=nb_epoch, batch_size=batch_size, shuffle=True, verbose=1, validation_data=(X_test,Y_test))"
   ]
  },
  {
   "cell_type": "code",
   "execution_count": 11,
   "metadata": {},
   "outputs": [
    {
     "name": "stdout",
     "output_type": "stream",
     "text": [
      " 8448/10000 [========================>.....] - ETA: 0s\n",
      "Summary: Loss over the test dataset: 0.02, Accuracy: 0.99\n"
     ]
    }
   ],
   "source": [
    "# Evaluate\n",
    "evaluation = model.evaluate(X_test, Y_test, batch_size=256, verbose=1)\n",
    "print('\\nSummary: Loss over the test dataset: %.2f, Accuracy: %.2f' % (evaluation[0], evaluation[1]))"
   ]
  },
  {
   "cell_type": "code",
   "execution_count": 15,
   "metadata": {},
   "outputs": [
    {
     "name": "stdout",
     "output_type": "stream",
     "text": [
      "dict_keys(['val_loss', 'val_acc', 'loss', 'acc'])\n"
     ]
    },
    {
     "data": {
      "image/png": "[encoded data removed]",
      "text/plain": [
       "<matplotlib.figure.Figure at 0x17d95f60048>"
      ]
     },
     "metadata": {},
     "output_type": "display_data"
    }
   ],
   "source": [
    "# list all data in history\n",
    "print(history.history.keys())\n",
    "plot_model_history(history)"
   ]
  },
  {
   "cell_type": "code",
   "execution_count": null,
   "metadata": {
    "collapsed": true
   },
   "outputs": [],
   "source": []
  }
 ],
 "metadata": {
  "kernelspec": {
   "display_name": "Python 3",
   "language": "python",
   "name": "python3"
  },
  "language_info": {
   "codemirror_mode": {
    "name": "ipython",
    "version": 3
   },
   "file_extension": ".py",
   "mimetype": "text/x-python",
   "name": "python",
   "nbconvert_exporter": "python",
   "pygments_lexer": "ipython3",
   "version": "3.6.3"
  }
 },
 "nbformat": 4,
 "nbformat_minor": 2
}
