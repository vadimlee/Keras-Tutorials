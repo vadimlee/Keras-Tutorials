{
 "cells": [
  {
   "cell_type": "code",
   "execution_count": 37,
   "metadata": {},
   "outputs": [],
   "source": [
    "from keras.models import Sequential\n",
    "from keras.layers import Dense\n",
    "from keras.optimizers import SGD\n",
    "from keras.datasets import mnist\n",
    "from keras.utils import np_utils\n",
    "import keras\n",
    "import matplotlib.pyplot as plt\n",
    "import numpy as np"
   ]
  },
  {
   "cell_type": "code",
   "execution_count": 49,
   "metadata": {
    "collapsed": true
   },
   "outputs": [],
   "source": [
    "batch_size = 128\n",
    "nb_classes = 10\n",
    "nb_epoch = 100"
   ]
  },
  {
   "cell_type": "code",
   "execution_count": 50,
   "metadata": {
    "collapsed": true
   },
   "outputs": [],
   "source": [
    "def plot_model_history(model_history):\n",
    "    fig, axs = plt.subplots(1,2,figsize=(15,5))\n",
    "    # summarize history for accuracy\n",
    "    axs[0].plot(range(1,len(model_history.history['acc'])+1),model_history.history['acc'])\n",
    "    axs[0].plot(range(1,len(model_history.history['val_acc'])+1),model_history.history['val_acc'])\n",
    "    axs[0].set_title('Model Accuracy')\n",
    "    axs[0].set_ylabel('Accuracy')\n",
    "    axs[0].set_xlabel('Epoch')\n",
    "    axs[0].set_xticks(np.arange(1,len(model_history.history['acc'])+1),len(model_history.history['acc'])/10)\n",
    "    axs[0].legend(['train', 'val'], loc='best')\n",
    "    # summarize history for loss\n",
    "    axs[1].plot(range(1,len(model_history.history['loss'])+1),model_history.history['loss'])\n",
    "    axs[1].plot(range(1,len(model_history.history['val_loss'])+1),model_history.history['val_loss'])\n",
    "    axs[1].set_title('Model Loss')\n",
    "    axs[1].set_ylabel('Loss')\n",
    "    axs[1].set_xlabel('Epoch')\n",
    "    axs[1].set_xticks(np.arange(1,len(model_history.history['loss'])+1),len(model_history.history['loss'])/10)\n",
    "    axs[1].legend(['train', 'val'], loc='best')\n",
    "    plt.show()"
   ]
  },
  {
   "cell_type": "code",
   "execution_count": 51,
   "metadata": {
    "collapsed": true
   },
   "outputs": [],
   "source": [
    "# Load MNIST dataset\n",
    "(X_train, y_train), (X_test, y_test) = mnist.load_data()\n",
    "X_train = X_train.reshape(60000, 784)\n",
    "X_test = X_test.reshape(10000, 784)\n",
    "X_train = X_train.astype('float32')\n",
    "X_test = X_test.astype('float32')\n",
    "X_train /= 255\n",
    "X_test /= 255\n",
    "Y_Train = np_utils.to_categorical(y_train, nb_classes)\n",
    "Y_Test = np_utils.to_categorical(y_test, nb_classes)"
   ]
  },
  {
   "cell_type": "code",
   "execution_count": 52,
   "metadata": {},
   "outputs": [
    {
     "name": "stdout",
     "output_type": "stream",
     "text": [
      "_________________________________________________________________\n",
      "Layer (type)                 Output Shape              Param #   \n",
      "=================================================================\n",
      "dense_19 (Dense)             (None, 625)               490625    \n",
      "_________________________________________________________________\n",
      "dense_20 (Dense)             (None, 625)               391250    \n",
      "_________________________________________________________________\n",
      "dense_21 (Dense)             (None, 10)                6260      \n",
      "=================================================================\n",
      "Total params: 888,135\n",
      "Trainable params: 888,135\n",
      "Non-trainable params: 0\n",
      "_________________________________________________________________\n"
     ]
    }
   ],
   "source": [
    "# Multilayer Perceptron model\n",
    "model = Sequential()\n",
    "model.add(Dense(input_dim=784, activation=\"sigmoid\", units=625, kernel_initializer=\"normal\"))\n",
    "model.add(Dense(input_dim=625, activation=\"sigmoid\", units=625, kernel_initializer=\"normal\"))\n",
    "model.add(Dense(input_dim=625, activation=\"softmax\", units=10, kernel_initializer=\"normal\"))\n",
    "model.compile(loss='categorical_crossentropy', optimizer=SGD(lr=0.05), metrics=['accuracy'])\n",
    "model.summary()"
   ]
  },
  {
   "cell_type": "code",
   "execution_count": 53,
   "metadata": {},
   "outputs": [
    {
     "name": "stdout",
     "output_type": "stream",
     "text": [
      "Train on 60000 samples, validate on 10000 samples\n",
      "Epoch 1/100\n",
      "60000/60000 [==============================] - 2s - loss: 1.9070 - acc: 0.4219 - val_loss: 1.3159 - val_acc: 0.7155\n",
      "Epoch 2/100\n",
      "60000/60000 [==============================] - 1s - loss: 0.9357 - acc: 0.7761 - val_loss: 0.6757 - val_acc: 0.8300\n",
      "Epoch 3/100\n",
      "60000/60000 [==============================] - 1s - loss: 0.5887 - acc: 0.8479 - val_loss: 0.5055 - val_acc: 0.8653\n",
      "Epoch 4/100\n",
      "60000/60000 [==============================] - 1s - loss: 0.4728 - acc: 0.8716 - val_loss: 0.4234 - val_acc: 0.8851\n",
      "Epoch 5/100\n",
      "60000/60000 [==============================] - 1s - loss: 0.4175 - acc: 0.8838 - val_loss: 0.3821 - val_acc: 0.8921\n",
      "Epoch 6/100\n",
      "60000/60000 [==============================] - 1s - loss: 0.3858 - acc: 0.8903 - val_loss: 0.3607 - val_acc: 0.8992\n",
      "Epoch 7/100\n",
      "60000/60000 [==============================] - 1s - loss: 0.3647 - acc: 0.8956 - val_loss: 0.3412 - val_acc: 0.9010\n",
      "Epoch 8/100\n",
      "60000/60000 [==============================] - 1s - loss: 0.3498 - acc: 0.8997 - val_loss: 0.3274 - val_acc: 0.9054\n",
      "Epoch 9/100\n",
      "60000/60000 [==============================] - 1s - loss: 0.3384 - acc: 0.9021 - val_loss: 0.3184 - val_acc: 0.9072\n",
      "Epoch 10/100\n",
      "60000/60000 [==============================] - 1s - loss: 0.3292 - acc: 0.9044 - val_loss: 0.3132 - val_acc: 0.9082\n",
      "Epoch 11/100\n",
      "60000/60000 [==============================] - 1s - loss: 0.3215 - acc: 0.9069 - val_loss: 0.3093 - val_acc: 0.9084\n",
      "Epoch 12/100\n",
      "60000/60000 [==============================] - 1s - loss: 0.3146 - acc: 0.9089 - val_loss: 0.2979 - val_acc: 0.9133\n",
      "Epoch 13/100\n",
      "60000/60000 [==============================] - 1s - loss: 0.3094 - acc: 0.9104 - val_loss: 0.2981 - val_acc: 0.9138\n",
      "Epoch 14/100\n",
      "60000/60000 [==============================] - 1s - loss: 0.3046 - acc: 0.9118 - val_loss: 0.2939 - val_acc: 0.9141\n",
      "Epoch 15/100\n",
      "60000/60000 [==============================] - 1s - loss: 0.2997 - acc: 0.9136 - val_loss: 0.2859 - val_acc: 0.9157\n",
      "Epoch 16/100\n",
      "60000/60000 [==============================] - 1s - loss: 0.2959 - acc: 0.9141 - val_loss: 0.2862 - val_acc: 0.9168\n",
      "Epoch 17/100\n",
      "60000/60000 [==============================] - 1s - loss: 0.2921 - acc: 0.9150 - val_loss: 0.2832 - val_acc: 0.9187\n",
      "Epoch 18/100\n",
      "60000/60000 [==============================] - 1s - loss: 0.2883 - acc: 0.9164 - val_loss: 0.2822 - val_acc: 0.9205\n",
      "Epoch 19/100\n",
      "60000/60000 [==============================] - 1s - loss: 0.2854 - acc: 0.9178 - val_loss: 0.2780 - val_acc: 0.9201\n",
      "Epoch 20/100\n",
      "60000/60000 [==============================] - 1s - loss: 0.2821 - acc: 0.9182 - val_loss: 0.2917 - val_acc: 0.9176\n",
      "Epoch 21/100\n",
      "60000/60000 [==============================] - 1s - loss: 0.2790 - acc: 0.9189 - val_loss: 0.2727 - val_acc: 0.9227\n",
      "Epoch 22/100\n",
      "60000/60000 [==============================] - 1s - loss: 0.2759 - acc: 0.9200 - val_loss: 0.2681 - val_acc: 0.9230\n",
      "Epoch 23/100\n",
      "60000/60000 [==============================] - 1s - loss: 0.2733 - acc: 0.9207 - val_loss: 0.2659 - val_acc: 0.9226\n",
      "Epoch 24/100\n",
      "60000/60000 [==============================] - 1s - loss: 0.2702 - acc: 0.9218 - val_loss: 0.2684 - val_acc: 0.9231\n",
      "Epoch 25/100\n",
      "60000/60000 [==============================] - 1s - loss: 0.2678 - acc: 0.9224 - val_loss: 0.2605 - val_acc: 0.9242\n",
      "Epoch 26/100\n",
      "60000/60000 [==============================] - 1s - loss: 0.2650 - acc: 0.9234 - val_loss: 0.2668 - val_acc: 0.9216\n",
      "Epoch 27/100\n",
      "60000/60000 [==============================] - 1s - loss: 0.2622 - acc: 0.9243 - val_loss: 0.2582 - val_acc: 0.9268\n",
      "Epoch 28/100\n",
      "60000/60000 [==============================] - 1s - loss: 0.2599 - acc: 0.9251 - val_loss: 0.2536 - val_acc: 0.9277\n",
      "Epoch 29/100\n",
      "60000/60000 [==============================] - 1s - loss: 0.2567 - acc: 0.9263 - val_loss: 0.2540 - val_acc: 0.9263\n",
      "Epoch 30/100\n",
      "60000/60000 [==============================] - 1s - loss: 0.2544 - acc: 0.9263 - val_loss: 0.2521 - val_acc: 0.9266\n",
      "Epoch 31/100\n",
      "60000/60000 [==============================] - 1s - loss: 0.2515 - acc: 0.9272 - val_loss: 0.2507 - val_acc: 0.9277\n",
      "Epoch 32/100\n",
      "60000/60000 [==============================] - 1s - loss: 0.2489 - acc: 0.9283 - val_loss: 0.2464 - val_acc: 0.9300\n",
      "Epoch 33/100\n",
      "60000/60000 [==============================] - 1s - loss: 0.2460 - acc: 0.9287 - val_loss: 0.2423 - val_acc: 0.9308\n",
      "Epoch 34/100\n",
      "60000/60000 [==============================] - 1s - loss: 0.2435 - acc: 0.9298 - val_loss: 0.2408 - val_acc: 0.9306\n",
      "Epoch 35/100\n",
      "60000/60000 [==============================] - 1s - loss: 0.2405 - acc: 0.9310 - val_loss: 0.2403 - val_acc: 0.9296\n",
      "Epoch 36/100\n",
      "60000/60000 [==============================] - 1s - loss: 0.2375 - acc: 0.9318 - val_loss: 0.2360 - val_acc: 0.9329\n",
      "Epoch 37/100\n",
      "60000/60000 [==============================] - 1s - loss: 0.2352 - acc: 0.9323 - val_loss: 0.2347 - val_acc: 0.9341\n",
      "Epoch 38/100\n",
      "60000/60000 [==============================] - 1s - loss: 0.2322 - acc: 0.9338 - val_loss: 0.2331 - val_acc: 0.9328\n",
      "Epoch 39/100\n",
      "60000/60000 [==============================] - 1s - loss: 0.2292 - acc: 0.9341 - val_loss: 0.2299 - val_acc: 0.9327\n",
      "Epoch 40/100\n",
      "60000/60000 [==============================] - 1s - loss: 0.2267 - acc: 0.9348 - val_loss: 0.2281 - val_acc: 0.9358\n",
      "Epoch 41/100\n",
      "60000/60000 [==============================] - 1s - loss: 0.2245 - acc: 0.9355 - val_loss: 0.2246 - val_acc: 0.9345\n",
      "Epoch 42/100\n",
      "60000/60000 [==============================] - 1s - loss: 0.2214 - acc: 0.9368 - val_loss: 0.2226 - val_acc: 0.9359\n",
      "Epoch 43/100\n",
      "60000/60000 [==============================] - 1s - loss: 0.2186 - acc: 0.9377 - val_loss: 0.2223 - val_acc: 0.9367\n",
      "Epoch 44/100\n",
      "60000/60000 [==============================] - 1s - loss: 0.2159 - acc: 0.9382 - val_loss: 0.2185 - val_acc: 0.9357\n",
      "Epoch 45/100\n",
      "60000/60000 [==============================] - 1s - loss: 0.2131 - acc: 0.9386 - val_loss: 0.2142 - val_acc: 0.9383\n",
      "Epoch 46/100\n",
      "60000/60000 [==============================] - 1s - loss: 0.2104 - acc: 0.9403 - val_loss: 0.2116 - val_acc: 0.9378\n",
      "Epoch 47/100\n",
      "60000/60000 [==============================] - 1s - loss: 0.2074 - acc: 0.9409 - val_loss: 0.2073 - val_acc: 0.9395\n",
      "Epoch 48/100\n",
      "60000/60000 [==============================] - 1s - loss: 0.2053 - acc: 0.9418 - val_loss: 0.2060 - val_acc: 0.9401\n",
      "Epoch 49/100\n",
      "60000/60000 [==============================] - 1s - loss: 0.2022 - acc: 0.9424 - val_loss: 0.2039 - val_acc: 0.9409\n",
      "Epoch 50/100\n",
      "60000/60000 [==============================] - 1s - loss: 0.1992 - acc: 0.9431 - val_loss: 0.2007 - val_acc: 0.9417\n",
      "Epoch 51/100\n",
      "60000/60000 [==============================] - 1s - loss: 0.1967 - acc: 0.9444 - val_loss: 0.1980 - val_acc: 0.9426\n",
      "Epoch 52/100\n",
      "60000/60000 [==============================] - 1s - loss: 0.1945 - acc: 0.9449 - val_loss: 0.1990 - val_acc: 0.9425\n",
      "Epoch 53/100\n",
      "60000/60000 [==============================] - 1s - loss: 0.1915 - acc: 0.9457 - val_loss: 0.1918 - val_acc: 0.9450\n",
      "Epoch 54/100\n",
      "60000/60000 [==============================] - 1s - loss: 0.1892 - acc: 0.9463 - val_loss: 0.1910 - val_acc: 0.9454\n",
      "Epoch 55/100\n",
      "60000/60000 [==============================] - 1s - loss: 0.1867 - acc: 0.9464 - val_loss: 0.1879 - val_acc: 0.9462\n",
      "Epoch 56/100\n",
      "60000/60000 [==============================] - 1s - loss: 0.1843 - acc: 0.9476 - val_loss: 0.1878 - val_acc: 0.9450\n",
      "Epoch 57/100\n",
      "60000/60000 [==============================] - 1s - loss: 0.1817 - acc: 0.9481 - val_loss: 0.1849 - val_acc: 0.9454\n",
      "Epoch 58/100\n",
      "60000/60000 [==============================] - 1s - loss: 0.1792 - acc: 0.9488 - val_loss: 0.1818 - val_acc: 0.9457\n",
      "Epoch 59/100\n",
      "60000/60000 [==============================] - 1s - loss: 0.1768 - acc: 0.9496 - val_loss: 0.1801 - val_acc: 0.9463\n",
      "Epoch 60/100\n",
      "60000/60000 [==============================] - 1s - loss: 0.1746 - acc: 0.9505 - val_loss: 0.1784 - val_acc: 0.9465\n",
      "Epoch 61/100\n",
      "60000/60000 [==============================] - 1s - loss: 0.1724 - acc: 0.9513 - val_loss: 0.1745 - val_acc: 0.9489\n",
      "Epoch 62/100\n",
      "60000/60000 [==============================] - 1s - loss: 0.1698 - acc: 0.9515 - val_loss: 0.1739 - val_acc: 0.9489\n",
      "Epoch 63/100\n",
      "60000/60000 [==============================] - 1s - loss: 0.1681 - acc: 0.9519 - val_loss: 0.1766 - val_acc: 0.9475\n",
      "Epoch 64/100\n"
     ]
    },
    {
     "name": "stdout",
     "output_type": "stream",
     "text": [
      "60000/60000 [==============================] - 1s - loss: 0.1659 - acc: 0.9527 - val_loss: 0.1686 - val_acc: 0.9506\n",
      "Epoch 65/100\n",
      "60000/60000 [==============================] - 1s - loss: 0.1638 - acc: 0.9526 - val_loss: 0.1696 - val_acc: 0.9508\n",
      "Epoch 66/100\n",
      "60000/60000 [==============================] - 1s - loss: 0.1616 - acc: 0.9536 - val_loss: 0.1719 - val_acc: 0.9503\n",
      "Epoch 67/100\n",
      "60000/60000 [==============================] - 1s - loss: 0.1594 - acc: 0.9550 - val_loss: 0.1639 - val_acc: 0.9516\n",
      "Epoch 68/100\n",
      "60000/60000 [==============================] - 2s - loss: 0.1576 - acc: 0.9542 - val_loss: 0.1636 - val_acc: 0.9526\n",
      "Epoch 69/100\n",
      "60000/60000 [==============================] - 1s - loss: 0.1558 - acc: 0.9551 - val_loss: 0.1638 - val_acc: 0.9523\n",
      "Epoch 70/100\n",
      "60000/60000 [==============================] - 1s - loss: 0.1538 - acc: 0.9560 - val_loss: 0.1649 - val_acc: 0.9523\n",
      "Epoch 71/100\n",
      "60000/60000 [==============================] - 1s - loss: 0.1516 - acc: 0.9564 - val_loss: 0.1578 - val_acc: 0.9528\n",
      "Epoch 72/100\n",
      "60000/60000 [==============================] - 1s - loss: 0.1500 - acc: 0.9570 - val_loss: 0.1551 - val_acc: 0.9547\n",
      "Epoch 73/100\n",
      "60000/60000 [==============================] - 1s - loss: 0.1481 - acc: 0.9574 - val_loss: 0.1565 - val_acc: 0.9530\n",
      "Epoch 74/100\n",
      "60000/60000 [==============================] - 1s - loss: 0.1461 - acc: 0.9580 - val_loss: 0.1579 - val_acc: 0.9540\n",
      "Epoch 75/100\n",
      "60000/60000 [==============================] - 1s - loss: 0.1445 - acc: 0.9585 - val_loss: 0.1554 - val_acc: 0.9548\n",
      "Epoch 76/100\n",
      "60000/60000 [==============================] - 1s - loss: 0.1426 - acc: 0.9591 - val_loss: 0.1538 - val_acc: 0.9534\n",
      "Epoch 77/100\n",
      "60000/60000 [==============================] - 1s - loss: 0.1409 - acc: 0.9595 - val_loss: 0.1491 - val_acc: 0.9568\n",
      "Epoch 78/100\n",
      "60000/60000 [==============================] - 1s - loss: 0.1394 - acc: 0.9601 - val_loss: 0.1487 - val_acc: 0.9572\n",
      "Epoch 79/100\n",
      "60000/60000 [==============================] - 1s - loss: 0.1377 - acc: 0.9606 - val_loss: 0.1474 - val_acc: 0.9582\n",
      "Epoch 80/100\n",
      "60000/60000 [==============================] - 1s - loss: 0.1362 - acc: 0.9606 - val_loss: 0.1438 - val_acc: 0.9581\n",
      "Epoch 81/100\n",
      "60000/60000 [==============================] - 2s - loss: 0.1342 - acc: 0.9615 - val_loss: 0.1479 - val_acc: 0.9572\n",
      "Epoch 82/100\n",
      "60000/60000 [==============================] - 1s - loss: 0.1330 - acc: 0.9618 - val_loss: 0.1436 - val_acc: 0.9584\n",
      "Epoch 83/100\n",
      "60000/60000 [==============================] - 1s - loss: 0.1314 - acc: 0.9620 - val_loss: 0.1402 - val_acc: 0.9599\n",
      "Epoch 84/100\n",
      "60000/60000 [==============================] - 1s - loss: 0.1300 - acc: 0.9628 - val_loss: 0.1396 - val_acc: 0.9602\n",
      "Epoch 85/100\n",
      "60000/60000 [==============================] - 1s - loss: 0.1284 - acc: 0.9632 - val_loss: 0.1403 - val_acc: 0.9589\n",
      "Epoch 86/100\n",
      "60000/60000 [==============================] - 1s - loss: 0.1267 - acc: 0.9642 - val_loss: 0.1396 - val_acc: 0.9605\n",
      "Epoch 87/100\n",
      "60000/60000 [==============================] - 1s - loss: 0.1251 - acc: 0.9642 - val_loss: 0.1388 - val_acc: 0.9602\n",
      "Epoch 88/100\n",
      "60000/60000 [==============================] - 2s - loss: 0.1241 - acc: 0.9648 - val_loss: 0.1350 - val_acc: 0.9610\n",
      "Epoch 89/100\n",
      "60000/60000 [==============================] - 1s - loss: 0.1227 - acc: 0.9646 - val_loss: 0.1349 - val_acc: 0.9603\n",
      "Epoch 90/100\n",
      "60000/60000 [==============================] - 2s - loss: 0.1212 - acc: 0.9660 - val_loss: 0.1331 - val_acc: 0.9622\n",
      "Epoch 91/100\n",
      "60000/60000 [==============================] - 1s - loss: 0.1202 - acc: 0.9654 - val_loss: 0.1318 - val_acc: 0.9605\n",
      "Epoch 92/100\n",
      "60000/60000 [==============================] - 1s - loss: 0.1184 - acc: 0.9659 - val_loss: 0.1292 - val_acc: 0.9621\n",
      "Epoch 93/100\n",
      "60000/60000 [==============================] - 1s - loss: 0.1171 - acc: 0.9670 - val_loss: 0.1312 - val_acc: 0.9607\n",
      "Epoch 94/100\n",
      "60000/60000 [==============================] - 1s - loss: 0.1160 - acc: 0.9668 - val_loss: 0.1308 - val_acc: 0.9628\n",
      "Epoch 95/100\n",
      "60000/60000 [==============================] - 1s - loss: 0.1146 - acc: 0.9671 - val_loss: 0.1280 - val_acc: 0.9618\n",
      "Epoch 96/100\n",
      "60000/60000 [==============================] - 1s - loss: 0.1133 - acc: 0.9670 - val_loss: 0.1286 - val_acc: 0.9632\n",
      "Epoch 97/100\n",
      "60000/60000 [==============================] - 1s - loss: 0.1122 - acc: 0.9676 - val_loss: 0.1305 - val_acc: 0.9603\n",
      "Epoch 98/100\n",
      "60000/60000 [==============================] - 2s - loss: 0.1107 - acc: 0.9686 - val_loss: 0.1276 - val_acc: 0.9632\n",
      "Epoch 99/100\n",
      "60000/60000 [==============================] - 1s - loss: 0.1098 - acc: 0.9683 - val_loss: 0.1238 - val_acc: 0.9633\n",
      "Epoch 100/100\n",
      "60000/60000 [==============================] - 1s - loss: 0.1086 - acc: 0.9690 - val_loss: 0.1224 - val_acc: 0.9632\n"
     ]
    }
   ],
   "source": [
    "# Train\n",
    "history = model.fit(X_train, Y_Train, epochs=nb_epoch, batch_size=batch_size, verbose=1,validation_data=(X_test,Y_Test))"
   ]
  },
  {
   "cell_type": "code",
   "execution_count": 54,
   "metadata": {},
   "outputs": [
    {
     "name": "stdout",
     "output_type": "stream",
     "text": [
      " 9632/10000 [===========================>..] - ETA: 0s\n",
      "Summary: Loss over the test dataset: 0.12, Accuracy: 0.96\n"
     ]
    }
   ],
   "source": [
    "# Evaluate\n",
    "evaluation = model.evaluate(X_test, Y_Test, verbose=1)\n",
    "print('\\nSummary: Loss over the test dataset: %.2f, Accuracy: %.2f' % (evaluation[0], evaluation[1]))"
   ]
  },
  {
   "cell_type": "code",
   "execution_count": 55,
   "metadata": {},
   "outputs": [
    {
     "name": "stdout",
     "output_type": "stream",
     "text": [
      "dict_keys(['val_loss', 'val_acc', 'loss', 'acc'])\n"
     ]
    },
    {
     "data": {
      "image/png": "[encoded data removed]",
      "text/plain": [
       "<matplotlib.figure.Figure at 0x1f9f7a38080>"
      ]
     },
     "metadata": {},
     "output_type": "display_data"
    }
   ],
   "source": [
    "# list all data in history\n",
    "print(history.history.keys())\n",
    "plot_model_history(history)"
   ]
  },
  {
   "cell_type": "code",
   "execution_count": null,
   "metadata": {
    "collapsed": true
   },
   "outputs": [],
   "source": []
  }
 ],
 "metadata": {
  "kernelspec": {
   "display_name": "Python 3",
   "language": "python",
   "name": "python3"
  },
  "language_info": {
   "codemirror_mode": {
    "name": "ipython",
    "version": 3
   },
   "file_extension": ".py",
   "mimetype": "text/x-python",
   "name": "python",
   "nbconvert_exporter": "python",
   "pygments_lexer": "ipython3",
   "version": "3.6.3"
  }
 },
 "nbformat": 4,
 "nbformat_minor": 2
}
