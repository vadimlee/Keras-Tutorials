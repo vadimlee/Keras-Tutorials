{
 "cells": [
  {
   "cell_type": "code",
   "execution_count": 1,
   "metadata": {},
   "outputs": [
    {
     "name": "stderr",
     "output_type": "stream",
     "text": [
      "Using TensorFlow backend.\n"
     ]
    }
   ],
   "source": [
    "from keras.models import Model\n",
    "from keras.layers import Dense, Input\n",
    "from keras.datasets import mnist\n",
    "import numpy as np\n",
    "import matplotlib.pyplot as plt\n",
    "%matplotlib inline"
   ]
  },
  {
   "cell_type": "code",
   "execution_count": 2,
   "metadata": {
    "collapsed": true
   },
   "outputs": [],
   "source": [
    "# Hyper parameters\n",
    "batch_size = 128\n",
    "nb_epoch = 100\n",
    "\n",
    "# Parameters for MNIST dataset\n",
    "img_rows, img_cols = 28, 28\n",
    "\n",
    "# Parameters for denoising autoencoder\n",
    "nb_visible = img_rows * img_cols\n",
    "nb_hidden = 500\n",
    "corruption_level = 0.3"
   ]
  },
  {
   "cell_type": "code",
   "execution_count": 3,
   "metadata": {},
   "outputs": [
    {
     "name": "stdout",
     "output_type": "stream",
     "text": [
      "(60000, 784)\n",
      "(10000, 784)\n"
     ]
    }
   ],
   "source": [
    "# Load MNIST Dataset\n",
    "(x_train, _), (x_test, _) = mnist.load_data()\n",
    "x_train = x_train.astype('float32') / 255.\n",
    "x_test = x_test.astype('float32') / 255.\n",
    "x_train = x_train.reshape((len(x_train), np.prod(x_train.shape[1:])))\n",
    "x_test = x_test.reshape((len(x_test), np.prod(x_test.shape[1:])))\n",
    "print(x_train.shape)\n",
    "print(x_test.shape)"
   ]
  },
  {
   "cell_type": "code",
   "execution_count": 4,
   "metadata": {
    "scrolled": true
   },
   "outputs": [
    {
     "name": "stdout",
     "output_type": "stream",
     "text": [
      "(60000, 784)\n",
      "(10000, 784)\n"
     ]
    }
   ],
   "source": [
    "# Add random noise\n",
    "x_train_noisy = x_train + corruption_level * np.random.normal(loc=0.0, scale=1.0, size=x_train.shape)\n",
    "x_test_noisy = x_test + corruption_level * np.random.normal(loc=0.0, scale=1.0, size=x_test.shape)\n",
    "x_train_noisy = np.clip(x_train_noisy, 0., 1.)\n",
    "x_test_noisy = np.clip(x_test_noisy, 0., 1.)\n",
    "print(x_train_noisy.shape)\n",
    "print(x_test_noisy.shape)"
   ]
  },
  {
   "cell_type": "code",
   "execution_count": 5,
   "metadata": {},
   "outputs": [
    {
     "name": "stdout",
     "output_type": "stream",
     "text": [
      "_________________________________________________________________\n",
      "Layer (type)                 Output Shape              Param #   \n",
      "=================================================================\n",
      "input_1 (InputLayer)         (None, 784)               0         \n",
      "_________________________________________________________________\n",
      "dense_1 (Dense)              (None, 500)               392500    \n",
      "_________________________________________________________________\n",
      "dense_2 (Dense)              (None, 784)               392784    \n",
      "=================================================================\n",
      "Total params: 785,284\n",
      "Trainable params: 785,284\n",
      "Non-trainable params: 0\n",
      "_________________________________________________________________\n"
     ]
    }
   ],
   "source": [
    "# Build autoencoder model\n",
    "input_img = Input(shape=(nb_visible,))\n",
    "encoded = Dense(nb_hidden, activation='relu')(input_img)\n",
    "decoded = Dense(nb_visible, activation='sigmoid')(encoded)\n",
    "\n",
    "autoencoder = Model(inputs=input_img, outputs=decoded)\n",
    "autoencoder.compile(optimizer='adadelta', loss='binary_crossentropy')\n",
    "autoencoder.summary()"
   ]
  },
  {
   "cell_type": "code",
   "execution_count": 6,
   "metadata": {},
   "outputs": [
    {
     "name": "stdout",
     "output_type": "stream",
     "text": [
      "Train on 60000 samples, validate on 10000 samples\n",
      "Epoch 1/100\n",
      "60000/60000 [==============================] - 3s - loss: 0.2770 - val_loss: 0.2261\n",
      "Epoch 2/100\n",
      "60000/60000 [==============================] - 2s - loss: 0.2043 - val_loss: 0.1847\n",
      "Epoch 3/100\n",
      "60000/60000 [==============================] - 2s - loss: 0.1745 - val_loss: 0.1631\n",
      "Epoch 4/100\n",
      "60000/60000 [==============================] - 2s - loss: 0.1571 - val_loss: 0.1489\n",
      "Epoch 5/100\n",
      "60000/60000 [==============================] - 2s - loss: 0.1448 - val_loss: 0.1384\n",
      "Epoch 6/100\n",
      "60000/60000 [==============================] - 2s - loss: 0.1357 - val_loss: 0.1305\n",
      "Epoch 7/100\n",
      "60000/60000 [==============================] - 2s - loss: 0.1288 - val_loss: 0.1244\n",
      "Epoch 8/100\n",
      "60000/60000 [==============================] - 2s - loss: 0.1234 - val_loss: 0.1197\n",
      "Epoch 9/100\n",
      "60000/60000 [==============================] - 2s - loss: 0.1191 - val_loss: 0.1159\n",
      "Epoch 10/100\n",
      "60000/60000 [==============================] - 2s - loss: 0.1157 - val_loss: 0.1128\n",
      "Epoch 11/100\n",
      "60000/60000 [==============================] - 2s - loss: 0.1128 - val_loss: 0.1102\n",
      "Epoch 12/100\n",
      "60000/60000 [==============================] - 2s - loss: 0.1104 - val_loss: 0.1080\n",
      "Epoch 13/100\n",
      "60000/60000 [==============================] - 2s - loss: 0.1083 - val_loss: 0.1060\n",
      "Epoch 14/100\n",
      "60000/60000 [==============================] - 2s - loss: 0.1065 - val_loss: 0.1044\n",
      "Epoch 15/100\n",
      "60000/60000 [==============================] - 2s - loss: 0.1049 - val_loss: 0.1030\n",
      "Epoch 16/100\n",
      "60000/60000 [==============================] - 3s - loss: 0.1035 - val_loss: 0.1017\n",
      "Epoch 17/100\n",
      "60000/60000 [==============================] - 3s - loss: 0.1023 - val_loss: 0.1006\n",
      "Epoch 18/100\n",
      "60000/60000 [==============================] - 2s - loss: 0.1012 - val_loss: 0.0996\n",
      "Epoch 19/100\n",
      "60000/60000 [==============================] - 2s - loss: 0.1002 - val_loss: 0.0987\n",
      "Epoch 20/100\n",
      "60000/60000 [==============================] - 2s - loss: 0.0993 - val_loss: 0.0978\n",
      "Epoch 21/100\n",
      "60000/60000 [==============================] - 2s - loss: 0.0985 - val_loss: 0.0971\n",
      "Epoch 22/100\n",
      "60000/60000 [==============================] - 2s - loss: 0.0977 - val_loss: 0.0964\n",
      "Epoch 23/100\n",
      "60000/60000 [==============================] - 2s - loss: 0.0970 - val_loss: 0.0958\n",
      "Epoch 24/100\n",
      "60000/60000 [==============================] - 2s - loss: 0.0964 - val_loss: 0.0952\n",
      "Epoch 25/100\n",
      "60000/60000 [==============================] - 2s - loss: 0.0958 - val_loss: 0.0947\n",
      "Epoch 26/100\n",
      "60000/60000 [==============================] - 3s - loss: 0.0953 - val_loss: 0.0941\n",
      "Epoch 27/100\n",
      "60000/60000 [==============================] - 2s - loss: 0.0948 - val_loss: 0.0937\n",
      "Epoch 28/100\n",
      "60000/60000 [==============================] - 2s - loss: 0.0943 - val_loss: 0.0932\n",
      "Epoch 29/100\n",
      "60000/60000 [==============================] - 3s - loss: 0.0938 - val_loss: 0.0928\n",
      "Epoch 30/100\n",
      "60000/60000 [==============================] - 3s - loss: 0.0934 - val_loss: 0.0925\n",
      "Epoch 31/100\n",
      "60000/60000 [==============================] - 2s - loss: 0.0930 - val_loss: 0.0921\n",
      "Epoch 32/100\n",
      "60000/60000 [==============================] - 2s - loss: 0.0927 - val_loss: 0.0918\n",
      "Epoch 33/100\n",
      "60000/60000 [==============================] - 2s - loss: 0.0923 - val_loss: 0.0915\n",
      "Epoch 34/100\n",
      "60000/60000 [==============================] - 2s - loss: 0.0920 - val_loss: 0.0912\n",
      "Epoch 35/100\n",
      "60000/60000 [==============================] - 2s - loss: 0.0917 - val_loss: 0.0909\n",
      "Epoch 36/100\n",
      "60000/60000 [==============================] - 2s - loss: 0.0914 - val_loss: 0.0906\n",
      "Epoch 37/100\n",
      "60000/60000 [==============================] - 2s - loss: 0.0911 - val_loss: 0.0904\n",
      "Epoch 38/100\n",
      "60000/60000 [==============================] - 2s - loss: 0.0908 - val_loss: 0.0901\n",
      "Epoch 39/100\n",
      "60000/60000 [==============================] - 2s - loss: 0.0906 - val_loss: 0.0899\n",
      "Epoch 40/100\n",
      "60000/60000 [==============================] - 2s - loss: 0.0903 - val_loss: 0.0897\n",
      "Epoch 41/100\n",
      "60000/60000 [==============================] - 2s - loss: 0.0901 - val_loss: 0.0895\n",
      "Epoch 42/100\n",
      "60000/60000 [==============================] - 2s - loss: 0.0899 - val_loss: 0.0893\n",
      "Epoch 43/100\n",
      "60000/60000 [==============================] - 2s - loss: 0.0897 - val_loss: 0.0891\n",
      "Epoch 44/100\n",
      "60000/60000 [==============================] - 2s - loss: 0.0895 - val_loss: 0.0889\n",
      "Epoch 45/100\n",
      "60000/60000 [==============================] - 2s - loss: 0.0893 - val_loss: 0.0887\n",
      "Epoch 46/100\n",
      "60000/60000 [==============================] - 2s - loss: 0.0891 - val_loss: 0.0885\n",
      "Epoch 47/100\n",
      "60000/60000 [==============================] - 2s - loss: 0.0889 - val_loss: 0.0884\n",
      "Epoch 48/100\n",
      "60000/60000 [==============================] - 2s - loss: 0.0887 - val_loss: 0.0882\n",
      "Epoch 49/100\n",
      "60000/60000 [==============================] - 2s - loss: 0.0886 - val_loss: 0.0881\n",
      "Epoch 50/100\n",
      "60000/60000 [==============================] - 2s - loss: 0.0884 - val_loss: 0.0879\n",
      "Epoch 51/100\n",
      "60000/60000 [==============================] - 2s - loss: 0.0882 - val_loss: 0.0878\n",
      "Epoch 52/100\n",
      "60000/60000 [==============================] - 2s - loss: 0.0881 - val_loss: 0.0876\n",
      "Epoch 53/100\n",
      "60000/60000 [==============================] - 2s - loss: 0.0879 - val_loss: 0.0875\n",
      "Epoch 54/100\n",
      "60000/60000 [==============================] - 2s - loss: 0.0878 - val_loss: 0.0874\n",
      "Epoch 55/100\n",
      "60000/60000 [==============================] - 2s - loss: 0.0877 - val_loss: 0.0873\n",
      "Epoch 56/100\n",
      "60000/60000 [==============================] - 2s - loss: 0.0875 - val_loss: 0.0871\n",
      "Epoch 57/100\n",
      "60000/60000 [==============================] - 2s - loss: 0.0874 - val_loss: 0.0870\n",
      "Epoch 58/100\n",
      "60000/60000 [==============================] - 2s - loss: 0.0873 - val_loss: 0.0869\n",
      "Epoch 59/100\n",
      "60000/60000 [==============================] - 2s - loss: 0.0871 - val_loss: 0.0868\n",
      "Epoch 60/100\n",
      "60000/60000 [==============================] - 2s - loss: 0.0870 - val_loss: 0.0867\n",
      "Epoch 61/100\n",
      "60000/60000 [==============================] - 2s - loss: 0.0869 - val_loss: 0.0866\n",
      "Epoch 62/100\n",
      "60000/60000 [==============================] - 2s - loss: 0.0868 - val_loss: 0.0865\n",
      "Epoch 63/100\n",
      "60000/60000 [==============================] - 2s - loss: 0.0867 - val_loss: 0.0864\n",
      "Epoch 64/100\n",
      "60000/60000 [==============================] - 2s - loss: 0.0866 - val_loss: 0.0863\n",
      "Epoch 65/100\n",
      "60000/60000 [==============================] - 2s - loss: 0.0865 - val_loss: 0.0862\n",
      "Epoch 66/100\n",
      "60000/60000 [==============================] - 2s - loss: 0.0864 - val_loss: 0.0861\n",
      "Epoch 67/100\n",
      "60000/60000 [==============================] - 2s - loss: 0.0863 - val_loss: 0.0860\n",
      "Epoch 68/100\n",
      "60000/60000 [==============================] - 2s - loss: 0.0862 - val_loss: 0.0859\n",
      "Epoch 69/100\n",
      "60000/60000 [==============================] - 2s - loss: 0.0861 - val_loss: 0.0859\n",
      "Epoch 70/100\n",
      "60000/60000 [==============================] - 2s - loss: 0.0860 - val_loss: 0.0858\n",
      "Epoch 71/100\n",
      "60000/60000 [==============================] - 2s - loss: 0.0859 - val_loss: 0.0857\n",
      "Epoch 72/100\n",
      "60000/60000 [==============================] - 2s - loss: 0.0858 - val_loss: 0.0856\n",
      "Epoch 73/100\n",
      "60000/60000 [==============================] - 2s - loss: 0.0858 - val_loss: 0.0856\n",
      "Epoch 74/100\n",
      "60000/60000 [==============================] - 2s - loss: 0.0857 - val_loss: 0.0855\n",
      "Epoch 75/100\n",
      "60000/60000 [==============================] - 2s - loss: 0.0856 - val_loss: 0.0854\n",
      "Epoch 76/100\n",
      "60000/60000 [==============================] - 2s - loss: 0.0855 - val_loss: 0.0853\n",
      "Epoch 77/100\n",
      "60000/60000 [==============================] - 2s - loss: 0.0854 - val_loss: 0.0853\n",
      "Epoch 78/100\n",
      "60000/60000 [==============================] - 2s - loss: 0.0854 - val_loss: 0.0852\n",
      "Epoch 79/100\n",
      "60000/60000 [==============================] - 2s - loss: 0.0853 - val_loss: 0.0851\n",
      "Epoch 80/100\n",
      "60000/60000 [==============================] - 2s - loss: 0.0852 - val_loss: 0.0851\n",
      "Epoch 81/100\n",
      "60000/60000 [==============================] - 2s - loss: 0.0851 - val_loss: 0.0850\n",
      "Epoch 82/100\n",
      "60000/60000 [==============================] - 2s - loss: 0.0851 - val_loss: 0.0850\n",
      "Epoch 83/100\n",
      "60000/60000 [==============================] - 2s - loss: 0.0850 - val_loss: 0.0849\n",
      "Epoch 84/100\n",
      "60000/60000 [==============================] - 2s - loss: 0.0849 - val_loss: 0.0848\n",
      "Epoch 85/100\n"
     ]
    },
    {
     "name": "stdout",
     "output_type": "stream",
     "text": [
      "60000/60000 [==============================] - 2s - loss: 0.0849 - val_loss: 0.0848\n",
      "Epoch 86/100\n",
      "60000/60000 [==============================] - 2s - loss: 0.0848 - val_loss: 0.0847\n",
      "Epoch 87/100\n",
      "60000/60000 [==============================] - 2s - loss: 0.0848 - val_loss: 0.0847\n",
      "Epoch 88/100\n",
      "60000/60000 [==============================] - 2s - loss: 0.0847 - val_loss: 0.0846\n",
      "Epoch 89/100\n",
      "60000/60000 [==============================] - 2s - loss: 0.0846 - val_loss: 0.0846\n",
      "Epoch 90/100\n",
      "60000/60000 [==============================] - 2s - loss: 0.0846 - val_loss: 0.0845\n",
      "Epoch 91/100\n",
      "60000/60000 [==============================] - 2s - loss: 0.0845 - val_loss: 0.0845\n",
      "Epoch 92/100\n",
      "60000/60000 [==============================] - 2s - loss: 0.0845 - val_loss: 0.0844\n",
      "Epoch 93/100\n",
      "60000/60000 [==============================] - 2s - loss: 0.0844 - val_loss: 0.0844\n",
      "Epoch 94/100\n",
      "60000/60000 [==============================] - 2s - loss: 0.0844 - val_loss: 0.0843\n",
      "Epoch 95/100\n",
      "60000/60000 [==============================] - 2s - loss: 0.0843 - val_loss: 0.0843\n",
      "Epoch 96/100\n",
      "60000/60000 [==============================] - 2s - loss: 0.0843 - val_loss: 0.0842\n",
      "Epoch 97/100\n",
      "60000/60000 [==============================] - 2s - loss: 0.0842 - val_loss: 0.0842\n",
      "Epoch 98/100\n",
      "60000/60000 [==============================] - 2s - loss: 0.0842 - val_loss: 0.0842\n",
      "Epoch 99/100\n",
      "60000/60000 [==============================] - 2s - loss: 0.0841 - val_loss: 0.0841\n",
      "Epoch 100/100\n",
      "60000/60000 [==============================] - 2s - loss: 0.0841 - val_loss: 0.0841\n"
     ]
    },
    {
     "data": {
      "text/plain": [
       "<keras.callbacks.History at 0x1df8f296da0>"
      ]
     },
     "execution_count": 6,
     "metadata": {},
     "output_type": "execute_result"
    }
   ],
   "source": [
    "# Train\n",
    "autoencoder.fit(x_train_noisy, x_train,\n",
    "                epochs=nb_epoch, batch_size=batch_size, shuffle=True, verbose=1,\n",
    "                validation_data=(x_test_noisy, x_test))"
   ]
  },
  {
   "cell_type": "code",
   "execution_count": 7,
   "metadata": {},
   "outputs": [
    {
     "name": "stdout",
     "output_type": "stream",
     "text": [
      " 7552/10000 [=====================>........] - ETA: 0s\n",
      "Summary: Loss over the test dataset: 0.08\n"
     ]
    }
   ],
   "source": [
    "# Evaluate\n",
    "evaluation = autoencoder.evaluate(x_test_noisy, x_test, batch_size=batch_size, verbose=1)\n",
    "print('\\nSummary: Loss over the test dataset: %.2f' % (evaluation))"
   ]
  },
  {
   "cell_type": "code",
   "execution_count": 8,
   "metadata": {},
   "outputs": [
    {
     "data": {
      "image/png": "[encoded data removed]",
      "text/plain": [
       "<matplotlib.figure.Figure at 0x1df8f01a978>"
      ]
     },
     "metadata": {},
     "output_type": "display_data"
    }
   ],
   "source": [
    "# Decode test images \n",
    "decoded_imgs = autoencoder.predict(x_test_noisy)\n",
    "\n",
    "n = 10  # how many digits we will display\n",
    "plt.figure(figsize=(20, 4))\n",
    "for i in range(n):\n",
    "    # display original\n",
    "    ax = plt.subplot(2, n, i + 1)\n",
    "    plt.imshow(x_test_noisy[i].reshape(28, 28))\n",
    "    plt.gray()\n",
    "    ax.get_xaxis().set_visible(False)\n",
    "    ax.get_yaxis().set_visible(False)\n",
    "\n",
    "    # display reconstruction\n",
    "    ax = plt.subplot(2, n, i + 1 + n)\n",
    "    plt.imshow(decoded_imgs[i].reshape(28, 28))\n",
    "    plt.gray()\n",
    "    ax.get_xaxis().set_visible(False)\n",
    "    ax.get_yaxis().set_visible(False)\n",
    "plt.show()"
   ]
  },
  {
   "cell_type": "code",
   "execution_count": null,
   "metadata": {
    "collapsed": true
   },
   "outputs": [],
   "source": []
  }
 ],
 "metadata": {
  "kernelspec": {
   "display_name": "Python 3",
   "language": "python",
   "name": "python3"
  },
  "language_info": {
   "codemirror_mode": {
    "name": "ipython",
    "version": 3
   },
   "file_extension": ".py",
   "mimetype": "text/x-python",
   "name": "python",
   "nbconvert_exporter": "python",
   "pygments_lexer": "ipython3",
   "version": "3.6.3"
  }
 },
 "nbformat": 4,
 "nbformat_minor": 2
}
